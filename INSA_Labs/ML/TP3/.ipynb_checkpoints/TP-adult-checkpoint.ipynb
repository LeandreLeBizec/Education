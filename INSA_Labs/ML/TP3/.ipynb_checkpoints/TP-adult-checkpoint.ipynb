{
 "cells": [
  {
   "cell_type": "markdown",
   "id": "3e199b29",
   "metadata": {},
   "source": [
    "Vous allez dans ce TP, expérimenter des méthodes de classification automatique sur un corpus de données. Le logiciel de classification [bonzaiboost](http://www.irisa.fr/texmex/people/raymond/bonzaiboost/bonzaiboost.html) sera utilisé. Un binaire compilé est intégré dans l'archive récupérable sur moodle.\n",
    "\n",
    "Le problème de classification est de pouvoir prédire si une personne gagne plus ou moins de 50K dollars par an étant donné un certain nombre de ses caractéristiques listées dans le fichier adult.names.\n",
    "\n",
    "L'archive TP3.tgz contient 5 fichiers :\n",
    "1.\tun fichier « adult.data » : ce sont les données d’apprentissage (le « train »)\n",
    "2.\tun fichier « adult.test » : ce sont les données de test (le « test »)\n",
    "3.\tun fichier « adult.names » qui décrit la structure des données présentes dans les fichiers précédents :\n",
    "•\tles lignes commençant par « | » sont des commentaires\n",
    "•\tla première ligne non commentée est la liste des classes à prédire\n",
    "•\tles lignes suivantes décrivent les attributs descriptifs\n",
    "•\tles attributs dont le type est « ignore » sont ignorés par le logiciel pour le début du TP (je ne sais pas à quoi ils correspondent)\n",
    "4. le binaire *bonzaiboost* compilé pour linux\n",
    "5. une interface python *bonzaitoolsforadult.py* pour exécuter le binaire dans jupyter de manière conviviale et transparente\n",
    "\n",
    "pour décompresser l'archive: `tar -zxvf TP3.tgz`\n",
    "\n",
    "> PS: si vous voulez tenter de faire le TP sous windows: le binaire compilé pour windows est [là](http://www.irisa.fr/texmex/people/raymond/bonzaiboost/bonzaiboost-v2.6.exe)\n"
   ]
  },
  {
   "cell_type": "markdown",
   "id": "1821dce5",
   "metadata": {},
   "source": [
    "## Exercice 1\n",
    "un classifieur très naïf est le classifieur qui prédit systématiquement l'étiquette majoritaire. Dans le cas d’un problème binaire où une classe est beaucoup plus fréquente que l’autre, ce classifieur peut fournir une baseline intéressante. Un peu comme prédire systématiquement du mauvais temps en Bretagne, cela peut parfois être moins risqué que de tenter de prendre une décision."
   ]
  },
  {
   "cell_type": "code",
   "execution_count": 2,
   "id": "59108fea",
   "metadata": {},
   "outputs": [
    {
     "data": {
      "text/plain": [
       "'3.8.10 (default, Nov 26 2021, 20:14:08) \\n[GCC 9.3.0]'"
      ]
     },
     "execution_count": 2,
     "metadata": {},
     "output_type": "execute_result"
    }
   ],
   "source": [
    "from bonzaitoolsforadult import bonzai\n",
    "import sys\n",
    "sys.version"
   ]
  },
  {
   "cell_type": "code",
   "execution_count": null,
   "id": "44737c9f",
   "metadata": {},
   "outputs": [],
   "source": [
    "#apprends le classifieur naïf: pas de boosting et un arbre à une feuille -> décision=étiquette majoritaire dans le corpus\n",
    "#clf=bonzai(stem='adult',compatibility=False)#passer compatibility à True si python 3.5\n",
    "clf=bonzai(stem='adult',bonzaipath=\"bonzaiboost.exe\")#changer le path vers le bon binaire si on est sous windows plutôt que linux\n",
    "\n",
    "#depth=0 -> profondeur de l'arbre à 0 \n",
    "#iter=0 -> pas de boosting, juste un arbre\n",
    "clf.fit(depth=0,iter=0) "
   ]
  },
  {
   "cell_type": "code",
   "execution_count": null,
   "id": "181ee2ee",
   "metadata": {},
   "outputs": [],
   "source": [
    "#évalue l'apprentissage\n",
    "clf.predict('adult.data',False)"
   ]
  },
  {
   "cell_type": "code",
   "execution_count": null,
   "id": "a080f5e9",
   "metadata": {},
   "outputs": [],
   "source": [
    "#évalue sur le test\n",
    "clf.predict('adult.test',False)"
   ]
  },
  {
   "cell_type": "markdown",
   "id": "4969158f",
   "metadata": {},
   "source": [
    "## Exercice 2 \n",
    "étudiez le problème et proposez selon votre intuition un arbre de décision binaire à 4 feuilles qui permettrait de classer ces données plus efficacement que le classifieur précédent."
   ]
  },
  {
   "cell_type": "markdown",
   "id": "63e7ff3c",
   "metadata": {},
   "source": [
    "### Exemple de code permettant facilement de définir un arbre: à vous d'en définir un qui marche mieux que le clf naïf"
   ]
  },
  {
   "cell_type": "code",
   "execution_count": null,
   "id": "e6545def",
   "metadata": {},
   "outputs": [],
   "source": [
    "from bonzaitoolsforadult import Node, Leaf\n",
    "    "
   ]
  },
  {
   "cell_type": "code",
   "execution_count": null,
   "id": "4217fddf",
   "metadata": {},
   "outputs": [],
   "source": [
    "arbre = Node('age','25') #for numeric question the rule is \"<\" so the yes branch contains people <35 and no branch >=35\n",
    "arbre.yes = Node('native-country','United-States')\n",
    "arbre.yes.yes=Leaf('infeq50K')\n",
    "arbre.yes.no=Leaf('infeq50K')\n",
    "arbre.no = Node('race','Black')\n",
    "arbre.no.yes=Leaf('sup50K')\n",
    "arbre.no.no=Leaf('infeq50K')\n",
    "\n",
    "#converti l'arbre en modèle bonzaiboost\n",
    "clf.to_bonzaimodel(arbre)\n",
    "#visualise l'arbre pour s'assurer que c'est celui que l'on souhaitais\n",
    "clf.visualize_tree()\n",
    "#P=le nombre d’exemples dans la feuille\n",
    "#la feuille indique l’étiquette majoritaire accompagnée de sa probabilité\n",
    "#ici ce sont des règles de décision manuelle donc on a généré une population virtuelle de 1\n",
    "\n"
   ]
  },
  {
   "cell_type": "markdown",
   "id": "9a00fc82",
   "metadata": {},
   "source": [
    "### évaluation de son efficacité"
   ]
  },
  {
   "cell_type": "code",
   "execution_count": null,
   "id": "11d705bf",
   "metadata": {},
   "outputs": [],
   "source": [
    "clf.predict('adult.test',False)"
   ]
  },
  {
   "cell_type": "markdown",
   "id": "86d154c8",
   "metadata": {},
   "source": [
    "> **Q1**: proposer un classifieur à 4 feuilles selon votre intuition sur les données"
   ]
  },
  {
   "cell_type": "markdown",
   "id": "50c4e152",
   "metadata": {},
   "source": [
    "> **Q2**: votre classifieur marche-til mieux que le classifieur naïf ?"
   ]
  },
  {
   "cell_type": "markdown",
   "id": "b48ae27f",
   "metadata": {},
   "source": [
    "### Comparons votre intuition avec la réalité statistique du corpus: on conserve l'arbre mais on met à jour les règles de décision dans les feuilles en accord avec les statistiques du corpus d'apprentissage"
   ]
  },
  {
   "cell_type": "code",
   "execution_count": null,
   "id": "2cee4ee7",
   "metadata": {},
   "outputs": [],
   "source": [
    "#ATTENTION fonctionne seulement pour des arbres équilibrés à 4 feuilles\n",
    "clf.update_decisions()"
   ]
  },
  {
   "cell_type": "code",
   "execution_count": null,
   "id": "87a22f33",
   "metadata": {},
   "outputs": [],
   "source": [
    "clf.visualize_tree()"
   ]
  },
  {
   "cell_type": "markdown",
   "id": "e13f36c7",
   "metadata": {},
   "source": [
    "> **Q3**: En quoi la réalité statistique diffère de votre intuition ?"
   ]
  },
  {
   "cell_type": "markdown",
   "id": "030ad6d3",
   "metadata": {},
   "source": [
    "### Laissons maintenant l’algorithme construire un arbre à 4 feuilles:"
   ]
  },
  {
   "cell_type": "code",
   "execution_count": null,
   "id": "fedb5729",
   "metadata": {},
   "outputs": [],
   "source": [
    "#on l'entraine\n",
    "clf.fit(depth=2)\n",
    "#on l'évalue\n",
    "clf.predict('adult.test')\n",
    "#on le visualize\n",
    "clf.visualize_tree()"
   ]
  },
  {
   "cell_type": "markdown",
   "id": "de54214d",
   "metadata": {},
   "source": [
    "> **Q4**: interprétez l'arbre obtenu, est-il meilleur que le votre ?"
   ]
  },
  {
   "cell_type": "markdown",
   "id": "e2717b65",
   "metadata": {},
   "source": [
    "___\n",
    "## Exercice 3 : nous allons maintenant construire un classifieur plus évolué en laissant l’arbre se développer.\n",
    "- Nous allons utiliser tous les attributs descriptifs: **remplaçez dans le fichier adult.names les « ignore » par « continuous ».**\n",
    "- Et un critère d'arrêt automatique appelé [MDLPC](https://www.ijcai.org/Proceedings/93-2/Papers/022.pdf) (Minimum Description Length Principle)"
   ]
  },
  {
   "cell_type": "code",
   "execution_count": null,
   "id": "6c679aec",
   "metadata": {},
   "outputs": [],
   "source": [
    "#on l'entraine\n",
    "clf.fit(mdlpc=True)\n",
    "#on l'évalue sur l'apprentissage\n",
    "#clf.predict('adult.data')\n",
    "#puis le test\n",
    "clf.predict('adult.test')\n",
    "#on ne le visualize pas nécessairement car il est un peu trop gros\n",
    "#clf.visualize_tree()"
   ]
  },
  {
   "cell_type": "markdown",
   "id": "15c957c5",
   "metadata": {},
   "source": [
    "> **Q1**:\tQu'observez-vous au niveau des performances par rapport au classifieur précédent ? "
   ]
  },
  {
   "cell_type": "markdown",
   "id": "55839158",
   "metadata": {},
   "source": [
    "> **Q2**:.\tQu'observez-vous au niveau des performances sur les données d’apprentissage par rapport aux performances sur les données de test ?"
   ]
  },
  {
   "cell_type": "markdown",
   "id": "c2afc65e",
   "metadata": {},
   "source": [
    "### Maintenant, nous allons développer l’arbre jusqu’au bout (aucun critère de stop) "
   ]
  },
  {
   "cell_type": "code",
   "execution_count": null,
   "id": "6da72794",
   "metadata": {},
   "outputs": [],
   "source": [
    "clf.fit(depth=10000)\n",
    "clf.predict('adult.data')\n",
    "clf.predict('adult.test')"
   ]
  },
  {
   "cell_type": "markdown",
   "id": "4f375b44",
   "metadata": {},
   "source": [
    "> **Q3**: Même questions que précédemment, à quel phénomène avons nous affaire ?"
   ]
  },
  {
   "cell_type": "markdown",
   "id": "a791b15b",
   "metadata": {},
   "source": [
    "## Exercice 4 : nous allons maintenant utiliser un algorithme de méta-apprentissage sur des arbres de décision. Le boosting sur un millier d’arbres simples à 2 feuilles\n"
   ]
  },
  {
   "cell_type": "code",
   "execution_count": null,
   "id": "ab6976b5",
   "metadata": {},
   "outputs": [],
   "source": [
    "clf.fit(iter=1000)\n",
    "clf.predict('adult.data',boosting=True)\n",
    "clf.predict('adult.test',boosting=True)"
   ]
  },
  {
   "cell_type": "code",
   "execution_count": null,
   "id": "624d1768",
   "metadata": {},
   "outputs": [],
   "source": [
    "clf.get_learning_curves('adult.data')"
   ]
  },
  {
   "cell_type": "code",
   "execution_count": null,
   "id": "d91e5f47",
   "metadata": {},
   "outputs": [],
   "source": [
    "clf.get_learning_curves('adult.test')"
   ]
  },
  {
   "cell_type": "markdown",
   "id": "6664a39d",
   "metadata": {},
   "source": [
    "### Générer un tableau récapitulatif du modèle de boosting produit\n",
    "Ce tableau récapitule toutes les conditions examinées par les mini arbres de décision, et donne pour chacune le vote octroyé à chacune des classes. "
   ]
  },
  {
   "cell_type": "code",
   "execution_count": null,
   "id": "bb2325d6",
   "metadata": {},
   "outputs": [],
   "source": [
    "clf.feedback(filter=0.7)"
   ]
  },
  {
   "cell_type": "markdown",
   "id": "91ab78b0",
   "metadata": {},
   "source": [
    "> **Q7**: En vous aidant de ce tableau, donnez les attributs les plus efficaces pour discriminer les individus gagnant plus de 50K de ceux qui en gagnent moins"
   ]
  },
  {
   "cell_type": "markdown",
   "id": "c7fe0491",
   "metadata": {},
   "source": [
    "## Exercice 5 :\n",
    "Prise en main de [scikit-learn](http://scikit-learn.org/stable/) et construction d'un SVM. Il est trop long d'apprendre et tuner un SVM sur les données précédentes : impossible à faire en TP. Les données utilisées ici seront une tâche de reconnaissance de digits (chiffres de 0 a 9) à partir d'imagettes.\n"
   ]
  },
  {
   "cell_type": "code",
   "execution_count": null,
   "id": "b291cc08",
   "metadata": {},
   "outputs": [],
   "source": [
    "from sklearn import datasets\n",
    "from sklearn.model_selection import RandomizedSearchCV,GridSearchCV,train_test_split\n",
    "from sklearn.svm import SVC\n",
    "from sklearn.metrics import classification_report\n",
    "from sklearn.preprocessing import MinMaxScaler\n",
    "from sklearn.neighbors import KNeighborsClassifier\n",
    "import numpy as np"
   ]
  },
  {
   "cell_type": "markdown",
   "id": "a1d05e18",
   "metadata": {},
   "source": [
    "### Chargement des données et découpage:\n",
    "- 75% pour les données d'apprentissage\n",
    "- 25% pour les données de test"
   ]
  },
  {
   "cell_type": "code",
   "execution_count": null,
   "id": "0306f79c",
   "metadata": {},
   "outputs": [],
   "source": [
    "#on prend un corpus de reconnaissance de digits (chiffres de 0 a 9) sur imagettes\n",
    "digits = datasets.load_digits()\n",
    "X = digits.data #X = matrice des examples d'apprentissages (nbexamples*nbvariablespourdecrireunexemple)\n",
    "y = digits.target#Y = vecteur des nbexamples étiquettes (vérité terrain)\n",
    "\n",
    "#découpage de nos données en 2, un train pour apprendre un classifieur,et un test pour estimer l'erreur réelle du classifieur\n",
    "x_train, x_test, y_train, y_test = train_test_split(X, y, test_size=0.25,shuffle=False)"
   ]
  },
  {
   "cell_type": "markdown",
   "id": "41360b99",
   "metadata": {},
   "source": [
    "> **Question**\n",
    "> 1. entrainer un SVM *linéaire* sans aucun tuning et évaluez le\n",
    "> 2. entrainez un SVM à noyau *RBF* sans tuning et évaluez-le : comparez\n",
    "> 3. tuner les paramètres du noyau *RBF*, évaluez et comparez\n",
    "> 4. obervez les données: y-avait-t-il un prétraitement à faire avant la classification ? si oui faite-le"
   ]
  },
  {
   "cell_type": "code",
   "execution_count": null,
   "id": "8a34cd62",
   "metadata": {},
   "outputs": [],
   "source": []
  },
  {
   "cell_type": "markdown",
   "id": "51abba2a",
   "metadata": {},
   "source": [
    "### évaluation du classifieur"
   ]
  },
  {
   "cell_type": "code",
   "execution_count": null,
   "id": "7fa781c8",
   "metadata": {},
   "outputs": [],
   "source": [
    "#apply the classifier on the test data\n",
    "print(\"Apply\")\n",
    "predictions = clf.predict(x_test)\n",
    "#check the performances of the classifier\n",
    "print(classification_report(y_test, predictions,digits=4))"
   ]
  },
  {
   "cell_type": "markdown",
   "id": "143d84bf",
   "metadata": {},
   "source": [
    "> Qoptionnel: vous pouvez vérifier si le gain entre le système SVM et KNN sont statisquement significatif en utilisant les tests de student apparié et de wilcoxon"
   ]
  },
  {
   "cell_type": "code",
   "execution_count": null,
   "id": "f2c897c0",
   "metadata": {},
   "outputs": [],
   "source": [
    "from scipy.stats import ttest_rel,wilcoxon\n"
   ]
  },
  {
   "cell_type": "code",
   "execution_count": null,
   "id": "c650a2a4",
   "metadata": {},
   "outputs": [],
   "source": []
  }
 ],
 "metadata": {
  "kernelspec": {
   "display_name": "Python 3 (ipykernel)",
   "language": "python",
   "name": "python3"
  },
  "language_info": {
   "codemirror_mode": {
    "name": "ipython",
    "version": 3
   },
   "file_extension": ".py",
   "mimetype": "text/x-python",
   "name": "python",
   "nbconvert_exporter": "python",
   "pygments_lexer": "ipython3",
   "version": "3.8.10"
  }
 },
 "nbformat": 4,
 "nbformat_minor": 5
}
