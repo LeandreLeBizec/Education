{
 "cells": [
  {
   "cell_type": "markdown",
   "id": "3e199b29",
   "metadata": {},
   "source": [
    "Vous allez dans ce TP, expérimenter des méthodes de classification automatique sur un corpus de données. Le logiciel de classification [bonzaiboost](http://www.irisa.fr/texmex/people/raymond/bonzaiboost/bonzaiboost.html) sera utilisé. Un binaire compilé est intégré dans l'archive récupérable sur moodle.\n",
    "\n",
    "Le problème de classification est de pouvoir prédire si une personne gagne plus ou moins de 50K dollars par an étant donné un certain nombre de ses caractéristiques listées dans le fichier adult.names.\n",
    "\n",
    "L'archive TP3.tgz contient 5 fichiers :\n",
    "1.\tun fichier « adult.data » : ce sont les données d’apprentissage (le « train »)\n",
    "2.\tun fichier « adult.test » : ce sont les données de test (le « test »)\n",
    "3.\tun fichier « adult.names » qui décrit la structure des données présentes dans les fichiers précédents :\n",
    "•\tles lignes commençant par « | » sont des commentaires\n",
    "•\tla première ligne non commentée est la liste des classes à prédire\n",
    "•\tles lignes suivantes décrivent les attributs descriptifs\n",
    "•\tles attributs dont le type est « ignore » sont ignorés par le logiciel pour le début du TP (je ne sais pas à quoi ils correspondent)\n",
    "4. le binaire *bonzaiboost* compilé pour linux\n",
    "5. une interface python *bonzaitoolsforadult.py* pour exécuter le binaire dans jupyter de manière conviviale et transparente\n",
    "\n",
    "pour décompresser l'archive: `tar -zxvf TP3.tgz`\n",
    "\n",
    "> PS: si vous voulez tenter de faire le TP sous windows: le binaire compilé pour windows est [là](http://www.irisa.fr/texmex/people/raymond/bonzaiboost/bonzaiboost-v2.6.exe)\n"
   ]
  },
  {
   "cell_type": "markdown",
   "id": "1821dce5",
   "metadata": {},
   "source": [
    "## Exercice 1\n",
    "un classifieur très naïf est le classifieur qui prédit systématiquement l'étiquette majoritaire. Dans le cas d’un problème binaire où une classe est beaucoup plus fréquente que l’autre, ce classifieur peut fournir une baseline intéressante. Un peu comme prédire systématiquement du mauvais temps en Bretagne, cela peut parfois être moins risqué que de tenter de prendre une décision."
   ]
  },
  {
   "cell_type": "code",
   "execution_count": 2,
   "id": "59108fea",
   "metadata": {},
   "outputs": [
    {
     "data": {
      "text/plain": [
       "'3.8.10 (default, Nov 26 2021, 20:14:08) \\n[GCC 9.3.0]'"
      ]
     },
     "execution_count": 2,
     "metadata": {},
     "output_type": "execute_result"
    }
   ],
   "source": [
    "from bonzaitoolsforadult import bonzai\n",
    "import sys\n",
    "sys.version"
   ]
  },
  {
   "cell_type": "code",
   "execution_count": 4,
   "id": "44737c9f",
   "metadata": {},
   "outputs": [
    {
     "name": "stdout",
     "output_type": "stream",
     "text": [
      "\n",
      " adult.names indicate:\n",
      "    -    14 attributes\n",
      "    -     2 target labels\n",
      " Load data : [100%] 32561/32561 [ 00:00<00:00 66451.02it/s ]\n",
      "\n",
      " Build Tree: [100%] |██████████████████████████████| 32561/32561 [ 00:00<00:00 ?it/s ]\n"
     ]
    }
   ],
   "source": [
    "#apprends le classifieur naïf: pas de boosting et un arbre à une feuille -> décision=étiquette majoritaire dans le corpus\n",
    "#clf=bonzai(stem='adult',compatibility=False)#passer compatibility à True si python 3.5\n",
    "clf=bonzai(stem='adult',bonzaipath=\"./bonzaiboost\")#changer le path vers le bon binaire si on est sous windows plutôt que linux\n",
    "\n",
    "#depth=0 -> profondeur de l'arbre à 0 \n",
    "#iter=0 -> pas de boosting, juste un arbre\n",
    "clf.fit(depth=0,iter=0) "
   ]
  },
  {
   "cell_type": "code",
   "execution_count": 5,
   "id": "181ee2ee",
   "metadata": {},
   "outputs": [
    {
     "name": "stdout",
     "output_type": "stream",
     "text": [
      "\n",
      " adult.names indicate:\n",
      "    -    14 attributes\n",
      "    -     2 target labels\n",
      " Load file : [adult.tree.xml] --> done\n",
      " Load data : [100%] 32561/32561 [ 00:00<00:00 66586.91it/s ]\n",
      "\n",
      " ┌──────────┬────────────┬───────────┬─────────┬────────┬───────────┬────────┬───────────┬────────────┐\n",
      " │    Label │ Hypothesis │ Reference │ correct │ Erreur │ Precision │ Recall │ F-measure │ Error rate │\n",
      " ├──────────┼────────────┼───────────┼─────────┼────────┼───────────┼────────┼───────────┼────────────┤\n",
      " │ infeq50K │      32561 │     24720 │   24720 │   7841 │     75.92 │ 100.00 │     86.31 │      31.72 │\n",
      " ├──────────┼────────────┼───────────┼─────────┼────────┼───────────┼────────┼───────────┼────────────┤\n",
      " │   sup50K │          0 │      7841 │       0 │   7841 │    100.00 │   0.00 │      0.00 │     100.00 │\n",
      " ├──────────┼────────────┼───────────┼─────────┼────────┼───────────┼────────┼───────────┼────────────┤\n",
      " │      All │      32561 │     32561 │   24720 │   7841 │     75.92 │  75.92 │     75.92 │      24.08 │\n",
      " └──────────┴────────────┴───────────┴─────────┴────────┴───────────┴────────┴───────────┴────────────┘\n",
      " | Micro F1             = 75.92% [75.45,76.38] at 95%\n",
      " | Macro F1             = 43.16%\n",
      " | Exact Match          = 75.92%\n",
      " | Multi-Label Accuracy = 75.92%\n",
      " | Hamming Loss         = 12.04%"
     ]
    }
   ],
   "source": [
    "#évalue l'apprentissage\n",
    "clf.predict('adult.data',False)"
   ]
  },
  {
   "cell_type": "code",
   "execution_count": 6,
   "id": "a080f5e9",
   "metadata": {},
   "outputs": [
    {
     "name": "stdout",
     "output_type": "stream",
     "text": [
      "\n",
      " adult.names indicate:\n",
      "    -    14 attributes\n",
      "    -     2 target labels\n",
      " Load file : [adult.tree.xml] --> done\n",
      " Load data : [100%] 16281/16281 [ 00:00<00:00 67276.86it/s ]\n",
      "\n",
      " ┌──────────┬────────────┬───────────┬─────────┬────────┬───────────┬────────┬───────────┬────────────┐\n",
      " │    Label │ Hypothesis │ Reference │ correct │ Erreur │ Precision │ Recall │ F-measure │ Error rate │\n",
      " ├──────────┼────────────┼───────────┼─────────┼────────┼───────────┼────────┼───────────┼────────────┤\n",
      " │ infeq50K │      16281 │     12435 │   12435 │   3846 │     76.38 │ 100.00 │     86.61 │      30.93 │\n",
      " ├──────────┼────────────┼───────────┼─────────┼────────┼───────────┼────────┼───────────┼────────────┤\n",
      " │   sup50K │          0 │      3846 │       0 │   3846 │    100.00 │   0.00 │      0.00 │     100.00 │\n",
      " ├──────────┼────────────┼───────────┼─────────┼────────┼───────────┼────────┼───────────┼────────────┤\n",
      " │      All │      16281 │     16281 │   12435 │   3846 │     76.38 │  76.38 │     76.38 │      23.62 │\n",
      " └──────────┴────────────┴───────────┴─────────┴────────┴───────────┴────────┴───────────┴────────────┘\n",
      " | Micro F1             = 76.38% [75.72,77.03] at 95%\n",
      " | Macro F1             = 43.30%\n",
      " | Exact Match          = 76.38%\n",
      " | Multi-Label Accuracy = 76.38%\n",
      " | Hamming Loss         = 11.81%"
     ]
    }
   ],
   "source": [
    "#évalue sur le test\n",
    "clf.predict('adult.test',False)"
   ]
  },
  {
   "cell_type": "markdown",
   "id": "4969158f",
   "metadata": {},
   "source": [
    "## Exercice 2 \n",
    "étudiez le problème et proposez selon votre intuition un arbre de décision binaire à 4 feuilles qui permettrait de classer ces données plus efficacement que le classifieur précédent."
   ]
  },
  {
   "cell_type": "markdown",
   "id": "63e7ff3c",
   "metadata": {},
   "source": [
    "### Exemple de code permettant facilement de définir un arbre: à vous d'en définir un qui marche mieux que le clf naïf"
   ]
  },
  {
   "cell_type": "code",
   "execution_count": 30,
   "id": "e6545def",
   "metadata": {},
   "outputs": [],
   "source": [
    "from bonzaitoolsforadult import Node, Leaf\n",
    "    "
   ]
  },
  {
   "cell_type": "code",
   "execution_count": 31,
   "id": "4217fddf",
   "metadata": {},
   "outputs": [
    {
     "name": "stdout",
     "output_type": "stream",
     "text": [
      "\n",
      " adult.names indicate:\n",
      "    -    14 attributes\n",
      "    -     2 target labels\n",
      " Load file : [adult.tree.xml] --> done\n",
      " Load data : [100%] 32561/32561 [ 00:00<00:00 65912.96it/s ]\n",
      "\n",
      " ┌──────────┬────────────┬───────────┬─────────┬────────┬───────────┬────────┬───────────┬────────────┐\n",
      " │    Label │ Hypothesis │ Reference │ correct │ Erreur │ Precision │ Recall │ F-measure │ Error rate │\n",
      " ├──────────┼────────────┼───────────┼─────────┼────────┼───────────┼────────┼───────────┼────────────┤\n",
      " │ infeq50K │      29949 │     24720 │   22491 │   7458 │     75.10 │  90.98 │     82.28 │      30.17 │\n",
      " ├──────────┼────────────┼───────────┼─────────┼────────┼───────────┼────────┼───────────┼────────────┤\n",
      " │   sup50K │       2612 │      7841 │     383 │   7458 │     14.66 │   4.88 │      7.33 │      95.12 │\n",
      " ├──────────┼────────────┼───────────┼─────────┼────────┼───────────┼────────┼───────────┼────────────┤\n",
      " │      All │      32561 │     32561 │   22874 │   9687 │     70.25 │  70.25 │     70.25 │      29.75 │\n",
      " └──────────┴────────────┴───────────┴─────────┴────────┴───────────┴────────┴───────────┴────────────┘\n",
      " | Micro F1             = 70.25% [69.75,70.75] at 95%\n",
      " | Macro F1             = 44.80%\n",
      " | Exact Match          = 70.25%\n",
      " | Multi-Label Accuracy = 70.25%\n",
      " | Hamming Loss         = 14.88%"
     ]
    },
    {
     "data": {
      "image/png": "[encoded data removed]",
      "text/plain": [
       "<IPython.core.display.Image object>"
      ]
     },
     "metadata": {},
     "output_type": "display_data"
    }
   ],
   "source": [
    "arbre = Node('age','25') #for numeric question the rule is \"<\" so the yes branch contains people <35 and no branch >=35\n",
    "arbre.yes = Node('native-country','United-States')\n",
    "arbre.yes.yes=Leaf('infeq50K')\n",
    "arbre.yes.no=Leaf('infeq50K')\n",
    "arbre.no = Node('race','Black')\n",
    "arbre.no.yes=Leaf('sup50K')\n",
    "arbre.no.no=Leaf('infeq50K')\n",
    "\n",
    "#converti l'arbre en modèle bonzaiboost\n",
    "clf.to_bonzaimodel(arbre)\n",
    "#visualise l'arbre pour s'assurer que c'est celui que l'on souhaitais\n",
    "clf.visualize_tree()\n",
    "#P=le nombre d’exemples dans la feuille\n",
    "#la feuille indique l’étiquette majoritaire accompagnée de sa probabilité\n",
    "#ici ce sont des règles de décision manuelle donc on a généré une population virtuelle de 1\n",
    "\n"
   ]
  },
  {
   "cell_type": "markdown",
   "id": "9a00fc82",
   "metadata": {},
   "source": [
    "### évaluation de son efficacité"
   ]
  },
  {
   "cell_type": "code",
   "execution_count": 9,
   "id": "11d705bf",
   "metadata": {},
   "outputs": [
    {
     "name": "stdout",
     "output_type": "stream",
     "text": [
      "\n",
      " adult.names indicate:\n",
      "    -    14 attributes\n",
      "    -     2 target labels\n",
      " Load file : [adult.tree.xml] --> done\n",
      " Load data : [100%] 16281/16281 [ 00:00<00:00 65914.98it/s ]\n",
      "\n",
      " ┌──────────┬────────────┬───────────┬─────────┬────────┬───────────┬────────┬───────────┬────────────┐\n",
      " │    Label │ Hypothesis │ Reference │ correct │ Erreur │ Precision │ Recall │ F-measure │ Error rate │\n",
      " ├──────────┼────────────┼───────────┼─────────┼────────┼───────────┼────────┼───────────┼────────────┤\n",
      " │ infeq50K │      14975 │     12435 │   11307 │   3668 │     75.51 │  90.93 │     82.50 │      29.50 │\n",
      " ├──────────┼────────────┼───────────┼─────────┼────────┼───────────┼────────┼───────────┼────────────┤\n",
      " │   sup50K │       1306 │      3846 │     178 │   3668 │     13.63 │   4.63 │      6.91 │      95.37 │\n",
      " ├──────────┼────────────┼───────────┼─────────┼────────┼───────────┼────────┼───────────┼────────────┤\n",
      " │      All │      16281 │     16281 │   11485 │   4796 │     70.54 │  70.54 │     70.54 │      29.46 │\n",
      " └──────────┴────────────┴───────────┴─────────┴────────┴───────────┴────────┴───────────┴────────────┘\n",
      " | Micro F1             = 70.54% [69.84,71.24] at 95%\n",
      " | Macro F1             = 44.71%\n",
      " | Exact Match          = 70.54%\n",
      " | Multi-Label Accuracy = 70.54%\n",
      " | Hamming Loss         = 14.73%"
     ]
    }
   ],
   "source": [
    "clf.predict('adult.test',False)"
   ]
  },
  {
   "cell_type": "markdown",
   "id": "86d154c8",
   "metadata": {},
   "source": [
    "> **Q1**: proposer un classifieur à 4 feuilles selon votre intuition sur les données"
   ]
  },
  {
   "cell_type": "code",
   "execution_count": 48,
   "id": "a05b950a",
   "metadata": {},
   "outputs": [
    {
     "name": "stdout",
     "output_type": "stream",
     "text": [
      "\n",
      " adult.names indicate:\n",
      "    -    14 attributes\n",
      "    -     2 target labels\n",
      " Load file : [adult.tree.xml] --> done\n",
      " Load data : [100%] 32561/32561 [ 00:00<00:00 65122.00it/s ]\n",
      "\n",
      " ┌──────────┬────────────┬───────────┬─────────┬────────┬───────────┬────────┬───────────┬────────────┐\n",
      " │    Label │ Hypothesis │ Reference │ correct │ Erreur │ Precision │ Recall │ F-measure │ Error rate │\n",
      " ├──────────┼────────────┼───────────┼─────────┼────────┼───────────┼────────┼───────────┼────────────┤\n",
      " │ infeq50K │      30065 │     24720 │   23814 │   6251 │     79.21 │  96.33 │     86.94 │      25.29 │\n",
      " ├──────────┼────────────┼───────────┼─────────┼────────┼───────────┼────────┼───────────┼────────────┤\n",
      " │   sup50K │       2496 │      7841 │    1590 │   6251 │     63.70 │  20.28 │     30.76 │      79.72 │\n",
      " ├──────────┼────────────┼───────────┼─────────┼────────┼───────────┼────────┼───────────┼────────────┤\n",
      " │      All │      32561 │     32561 │   25404 │   7157 │     78.02 │  78.02 │     78.02 │      21.98 │\n",
      " └──────────┴────────────┴───────────┴─────────┴────────┴───────────┴────────┴───────────┴────────────┘\n",
      " | Micro F1             = 78.02% [77.57,78.47] at 95%\n",
      " | Macro F1             = 58.85%\n",
      " | Exact Match          = 78.02%\n",
      " | Multi-Label Accuracy = 78.02%\n",
      " | Hamming Loss         = 10.99%"
     ]
    },
    {
     "data": {
      "image/png": "[encoded data removed]",
      "text/plain": [
       "<IPython.core.display.Image object>"
      ]
     },
     "metadata": {},
     "output_type": "display_data"
    }
   ],
   "source": [
    "arbre = Node('hours-per-week','50') #for numeric question the rule is \"<\" so the yes branch contains people <35 and no branch >=35\n",
    "arbre.yes = Node('education-num', '10')\n",
    "arbre.yes.yes=Leaf('infeq50K')\n",
    "arbre.yes.no=Leaf('infeq50K')\n",
    "arbre.no = Node('education-num','13')\n",
    "arbre.no.yes=Leaf('infeq50K')\n",
    "arbre.no.no=Leaf('sup50K')\n",
    "\n",
    "#converti l'arbre en modèle bonzaiboost\n",
    "clf.to_bonzaimodel(arbre)\n",
    "#visualise l'arbre pour s'assurer que c'est celui que l'on souhaitais\n",
    "clf.visualize_tree()\n",
    "#P=le nombre d’exemples dans la feuille\n",
    "#la feuille indique l’étiquette majoritaire accompagnée de sa probabilité\n",
    "#ici ce sont des règles de décision manuelle donc on a généré une population virtuelle de 1\n",
    "\n"
   ]
  },
  {
   "cell_type": "markdown",
   "id": "50c4e152",
   "metadata": {},
   "source": [
    "> **Q2**: votre classifieur marche-til mieux que le classifieur naïf ?"
   ]
  },
  {
   "cell_type": "code",
   "execution_count": null,
   "id": "1716b323",
   "metadata": {},
   "outputs": [],
   "source": [
    "75.92 < 78.02 mais pas très significatif..."
   ]
  },
  {
   "cell_type": "markdown",
   "id": "b48ae27f",
   "metadata": {},
   "source": [
    "### Comparons votre intuition avec la réalité statistique du corpus: on conserve l'arbre mais on met à jour les règles de décision dans les feuilles en accord avec les statistiques du corpus d'apprentissage"
   ]
  },
  {
   "cell_type": "code",
   "execution_count": 49,
   "id": "2cee4ee7",
   "metadata": {},
   "outputs": [
    {
     "name": "stdout",
     "output_type": "stream",
     "text": [
      "\n",
      " adult.names indicate:\n",
      "    -    14 attributes\n",
      "    -     2 target labels\n",
      " Load data : [100%] 32561/32561 [ 00:00<00:00 64992.02it/s ]\n",
      "\n",
      " Load file : [adult.tree.xml] --> done\n",
      " \n",
      " [AT:1/1]--- Resume Node with 32561 exemples, Depth=0\n",
      "         --> Q was =[hours-per-week:<50]\n",
      " \n",
      " [AT:1/1]--- Resume Node with 26099 exemples, Depth=1\n",
      "         --> Q was =[education-num:<10]\n",
      " Build Tree: [ 38%] |███████████▒░░░░░░░░░░░░░░░░░░| 12528/32561 [ 00:00<00:00 ?it/s ]\n",
      " [AT:1/1]--- Resume Node with 6462 exemples, Depth=1\n",
      "         --> Q was =[education-num:<13]\n",
      " Build Tree: [100%] |██████████████████████████████| 32561/32561 [ 00:00<00:00 3617888.89it/s ]\n"
     ]
    }
   ],
   "source": [
    "#ATTENTION fonctionne seulement pour des arbres équilibrés à 4 feuilles\n",
    "clf.update_decisions()"
   ]
  },
  {
   "cell_type": "code",
   "execution_count": 50,
   "id": "87a22f33",
   "metadata": {},
   "outputs": [
    {
     "name": "stdout",
     "output_type": "stream",
     "text": [
      "\n",
      " adult.names indicate:\n",
      "    -    14 attributes\n",
      "    -     2 target labels\n",
      " Load file : [adult.tree.xml] --> done\n",
      " Load data : [100%] 32561/32561 [ 00:00<00:00 65383.53it/s ]\n",
      "\n",
      " ┌──────────┬────────────┬───────────┬─────────┬────────┬───────────┬────────┬───────────┬────────────┐\n",
      " │    Label │ Hypothesis │ Reference │ correct │ Erreur │ Precision │ Recall │ F-measure │ Error rate │\n",
      " ├──────────┼────────────┼───────────┼─────────┼────────┼───────────┼────────┼───────────┼────────────┤\n",
      " │ infeq50K │      30065 │     24720 │   23814 │   6251 │     79.21 │  96.33 │     86.94 │      25.29 │\n",
      " ├──────────┼────────────┼───────────┼─────────┼────────┼───────────┼────────┼───────────┼────────────┤\n",
      " │   sup50K │       2496 │      7841 │    1590 │   6251 │     63.70 │  20.28 │     30.76 │      79.72 │\n",
      " ├──────────┼────────────┼───────────┼─────────┼────────┼───────────┼────────┼───────────┼────────────┤\n",
      " │      All │      32561 │     32561 │   25404 │   7157 │     78.02 │  78.02 │     78.02 │      21.98 │\n",
      " └──────────┴────────────┴───────────┴─────────┴────────┴───────────┴────────┴───────────┴────────────┘\n",
      " | Micro F1             = 78.02% [77.57,78.47] at 95%\n",
      " | Macro F1             = 58.85%\n",
      " | Exact Match          = 78.02%\n",
      " | Multi-Label Accuracy = 78.02%\n",
      " | Hamming Loss         = 10.99%"
     ]
    },
    {
     "data": {
      "image/png": "[encoded data removed]",
      "text/plain": [
       "<IPython.core.display.Image object>"
      ]
     },
     "metadata": {},
     "output_type": "display_data"
    }
   ],
   "source": [
    "clf.visualize_tree()"
   ]
  },
  {
   "cell_type": "markdown",
   "id": "e13f36c7",
   "metadata": {},
   "source": [
    "> **Q3**: En quoi la réalité statistique diffère de votre intuition ?"
   ]
  },
  {
   "cell_type": "markdown",
   "id": "4e3c7ede",
   "metadata": {},
   "source": [
    "la feuile yes.yes est assez vrai, les autres sont moyennement vrai"
   ]
  },
  {
   "cell_type": "markdown",
   "id": "030ad6d3",
   "metadata": {},
   "source": [
    "### Laissons maintenant l’algorithme construire un arbre à 4 feuilles:"
   ]
  },
  {
   "cell_type": "code",
   "execution_count": 52,
   "id": "fedb5729",
   "metadata": {},
   "outputs": [
    {
     "name": "stdout",
     "output_type": "stream",
     "text": [
      "\n",
      " adult.names indicate:\n",
      "    -    14 attributes\n",
      "    -     2 target labels\n",
      " Load data : [100%] 32561/32561 [ 00:00<00:00 66723.36it/s ]\n",
      "\n",
      " Extract features -> 285 -> cut\n",
      " Cut (age:73 ->  -> 73)\n",
      " Cut (workclass:9 ->  -> 9)\n",
      " Cut (fnlwgt:0 ->  -> 0)\n",
      " Cut (education:16 ->  -> 16)\n",
      " Cut (education-num:16 ->  -> 16)\n",
      " Cut (marital-status:7 ->  -> 7)\n",
      " Cut (occupation:15 ->  -> 15)\n",
      " Cut (relationship:6 ->  -> 6)\n",
      " Cut (race:5 ->  -> 5)\n",
      " Cut (sex:2 ->  -> 2)\n",
      " Cut (capital-gain:0 ->  -> 0)\n",
      " Cut (capital-loss:0 ->  -> 0)\n",
      " Cut (hours-per-week:94 ->  -> 94)\n",
      " Cut (native-country:42 ->  -> 42)\n",
      "  -> 285\n",
      " \n",
      " [1/1]--- Start Node with 32561 exemples, Depth=0\n",
      " \t--- Questions:[age=73][workclass=9][fnlwgt=0][education=16][education-num=16][marital-status=7][occupation=15][relationship=6][race=5][sex=2][capital-gain=0][capital-loss=0][hours-per-week=94][native-country=42]\n",
      " \tx-x Q with %gain(009.256) Gentropy(0.0737) name=[age:<27.5]\n",
      " \tx-x Q with %gain(001.482) Gentropy(0.0118) name=[workclass:Self-emp-inc]\n",
      " \tx-x Q with %gain(002.683) Gentropy(0.0214) name=[education:Bachelors]\n",
      " \tx-x Q with %gain(008.877) Gentropy(0.0707) name=[education-num:<12.5]\n",
      " \tx-x Q with %gain(019.100) Gentropy(0.1521) name=[marital-status:Married-civ-spouse]\n",
      " \tx-x Q with %gain(003.677) Gentropy(0.0293) name=[occupation:Exec-managerial]\n",
      " \tx-x Q with %gain(014.651) Gentropy(0.1167) name=[relationship:Husband]\n",
      " \tx-x Q with %gain(000.818) Gentropy(0.0065) name=[race:Black]\n",
      " \tx-x Q with %gain(004.668) Gentropy(0.0372) name=[sex:Male]\n",
      " \tx-x Q with %gain(005.120) Gentropy(0.0408) name=[hours-per-week:<41.5]\n",
      " \tx-x Q with %gain(000.479) Gentropy(0.0038) name=[native-country:Mexico]\n",
      " \txxx Q with %gain(019.100) Gentropy(0.1521) name=[marital-status:Married-civ-spouse] Instability(0)\n",
      " \n",
      " [1/1]--- Start Node with 14976 exemples, Depth=1\n",
      " \t--- Questions:[age=71][workclass=9][fnlwgt=0][education=16][education-num=16][marital-status=1][occupation=15][relationship=5][race=5][sex=2][capital-gain=0][capital-loss=0][hours-per-week=91][native-country=41]\n",
      " \tx-x Q with %gain(002.522) Gentropy(0.0250) name=[age:<29.5]\n",
      " \tx-x Q with %gain(000.919) Gentropy(0.0091) name=[workclass:Self-emp-inc]\n",
      " \tx-x Q with %gain(003.338) Gentropy(0.0331) name=[education:Bachelors]\n",
      " \tx-x Q with %gain(009.436) Gentropy(0.0936) name=[education-num:<12.5]\n",
      " \tx-x Q with %gain(003.373) Gentropy(0.0335) name=[occupation:Prof-specialty]\n",
      " \tx-x Q with %gain(000.253) Gentropy(0.0025) name=[relationship:Other-relative]\n",
      " \tx-x Q with %gain(000.180) Gentropy(0.0018) name=[race:White]\n",
      " \tx-x Q with %gain(000.002) Gentropy(0.0000) name=[sex:Male]\n",
      " \tx-x Q with %gain(002.191) Gentropy(0.0217) name=[hours-per-week:<41.5]\n",
      " \tx-x Q with %gain(000.970) Gentropy(0.0096) name=[native-country:Mexico]\n",
      " \txxx Q with %gain(009.436) Gentropy(0.0936) name=[education-num:<12.5] Instability(0)\n",
      " \n",
      " [1/1]--- Start Node with 17585 exemples, Depth=1\n",
      " \t--- Questions:[age=73][workclass=9][fnlwgt=0][education=16][education-num=16][marital-status=6][occupation=15][relationship=6][race=5][sex=2][capital-gain=0][capital-loss=0][hours-per-week=85][native-country=42]\n",
      " \tx-x Q with %gain(008.431) Gentropy(0.0294) name=[age:<27.5]\n",
      " \tx-x Q with %gain(000.807) Gentropy(0.0028) name=[workclass:?]\n",
      " \tx-x Q with %gain(003.302) Gentropy(0.0115) name=[education:Masters]\n",
      " \tx-x Q with %gain(011.229) Gentropy(0.0391) name=[education-num:<12.5]\n",
      " \tx-x Q with %gain(001.916) Gentropy(0.0067) name=[marital-status:Never-married]\n",
      " \tx-x Q with %gain(003.930) Gentropy(0.0137) name=[occupation:Prof-specialty]\n",
      " \tx-x Q with %gain(005.513) Gentropy(0.0192) name=[relationship:Own-child]\n",
      " \tx-x Q with %gain(000.510) Gentropy(0.0018) name=[race:Black]\n",
      " \tx-x Q with %gain(001.286) Gentropy(0.0045) name=[sex:Male]\n",
      " \tx-x Q with %gain(008.512) Gentropy(0.0296) name=[hours-per-week:<42.5]\n",
      " \tx-x Q with %gain(000.200) Gentropy(0.0007) name=[native-country:Mexico]\n",
      " \txxx Q with %gain(011.229) Gentropy(0.0391) name=[education-num:<12.5] Instability(0)\n",
      " Generating dot tree\n",
      " \n",
      " Saving model  -> done\n",
      " adult.names indicate:\n",
      "    -    14 attributes\n",
      "    -     2 target labels\n",
      " Load file : [adult.tree.xml] --> done\n",
      " Load data : [100%] 16281/16281 [ 00:00<00:00 65385.54it/s ]\n",
      "\n",
      " ┌──────────┬────────────┬───────────┬─────────┬────────┬───────────┬────────┬───────────┬────────────┐\n",
      " │    Label │ Hypothesis │ Reference │ correct │ Erreur │ Precision │ Recall │ F-measure │ Error rate │\n",
      " ├──────────┼────────────┼───────────┼─────────┼────────┼───────────┼────────┼───────────┼────────────┤\n",
      " │ infeq50K │      14088 │     12435 │   11812 │   2276 │     83.84 │  94.99 │     89.07 │      18.30 │\n",
      " ├──────────┼────────────┼───────────┼─────────┼────────┼───────────┼────────┼───────────┼────────────┤\n",
      " │   sup50K │       2193 │      3846 │    1570 │   2276 │     71.59 │  40.82 │     52.00 │      59.18 │\n",
      " ├──────────┼────────────┼───────────┼─────────┼────────┼───────────┼────────┼───────────┼────────────┤\n",
      " │      All │      16281 │     16281 │   13382 │   2899 │     82.19 │  82.19 │     82.19 │      17.81 │\n",
      " └──────────┴────────────┴───────────┴─────────┴────────┴───────────┴────────┴───────────┴────────────┘\n",
      " | Micro F1             = 82.19% [81.61,82.78] at 95%\n",
      " | Macro F1             = 70.53%\n",
      " | Exact Match          = 82.19%\n",
      " | Multi-Label Accuracy = 82.19%\n",
      " | Hamming Loss         = 8.90%\n",
      " adult.names indicate:\n",
      "    -    14 attributes\n",
      "    -     2 target labels\n",
      " Load file : [adult.tree.xml] --> done\n",
      " Load data : [100%] 32561/32561 [ 00:00<00:00 67274.79it/s ]\n",
      "\n",
      " ┌──────────┬────────────┬───────────┬─────────┬────────┬───────────┬────────┬───────────┬────────────┐\n",
      " │    Label │ Hypothesis │ Reference │ correct │ Erreur │ Precision │ Recall │ F-measure │ Error rate │\n",
      " ├──────────┼────────────┼───────────┼─────────┼────────┼───────────┼────────┼───────────┼────────────┤\n",
      " │ infeq50K │      28092 │     24720 │   23465 │   4627 │     83.53 │  94.92 │     88.86 │      18.72 │\n",
      " ├──────────┼────────────┼───────────┼─────────┼────────┼───────────┼────────┼───────────┼────────────┤\n",
      " │   sup50K │       4469 │      7841 │    3214 │   4627 │     71.92 │  40.99 │     52.22 │      59.01 │\n",
      " ├──────────┼────────────┼───────────┼─────────┼────────┼───────────┼────────┼───────────┼────────────┤\n",
      " │      All │      32561 │     32561 │   26679 │   5882 │     81.94 │  81.94 │     81.94 │      18.06 │\n",
      " └──────────┴────────────┴───────────┴─────────┴────────┴───────────┴────────┴───────────┴────────────┘\n",
      " | Micro F1             = 81.94% [81.52,82.35] at 95%\n",
      " | Macro F1             = 70.54%\n",
      " | Exact Match          = 81.94%\n",
      " | Multi-Label Accuracy = 81.94%\n",
      " | Hamming Loss         = 9.03%"
     ]
    },
    {
     "data": {
      "image/png": "[encoded data removed]",
      "text/plain": [
       "<IPython.core.display.Image object>"
      ]
     },
     "metadata": {},
     "output_type": "display_data"
    }
   ],
   "source": [
    "#on l'entraine\n",
    "clf.fit(depth=2,verbose=True)\n",
    "#verbose permet de voir plus de detail sur la construction de l'arbre\n",
    "#teste hauteur par hauteur et non le meilleur arbre possible\n",
    "#regarde l'entropie\n",
    "#on l'évalue\n",
    "clf.predict('adult.test')\n",
    "#on le visualize\n",
    "clf.visualize_tree()"
   ]
  },
  {
   "cell_type": "markdown",
   "id": "de54214d",
   "metadata": {},
   "source": [
    "> **Q4**: interprétez l'arbre obtenu, est-il meilleur que le votre ?"
   ]
  },
  {
   "cell_type": "markdown",
   "id": "1d007327",
   "metadata": {},
   "source": [
    "L'arbre obtenu est meilleur que celui testé. Sous l'attribut mariage civile se cache surement beaucoup de condition intéressante pour notre étude ( on se marie qu'à partir d'un certain âge et d'un certain niveau de vie par exemple )"
   ]
  },
  {
   "cell_type": "markdown",
   "id": "e2717b65",
   "metadata": {},
   "source": [
    "___\n",
    "## Exercice 3 : nous allons maintenant construire un classifieur plus évolué en laissant l’arbre se développer.\n",
    "- Nous allons utiliser tous les attributs descriptifs: **remplaçez dans le fichier adult.names les « ignore » par « continuous ».**\n",
    "- Et un critère d'arrêt automatique appelé [MDLPC](https://www.ijcai.org/Proceedings/93-2/Papers/022.pdf) (Minimum Description Length Principle)"
   ]
  },
  {
   "cell_type": "code",
   "execution_count": 63,
   "id": "6c679aec",
   "metadata": {},
   "outputs": [
    {
     "name": "stdout",
     "output_type": "stream",
     "text": [
      "\n",
      " adult.names indicate:\n",
      "    -    14 attributes\n",
      "    -     2 target labels\n",
      " Load data : [100%] 32561/32561 [ 00:00<00:00 84794.27it/s ]\n",
      "\n",
      " Build Tree: [100%] |██████████████████████████████| 32561/32561 [ 00:03<00:00 9702.32it/s ]]\n",
      "\n",
      " adult.names indicate:\n",
      "    -    14 attributes\n",
      "    -     2 target labels\n",
      " Load file : [adult.tree.xml] --> done\n",
      " Load data : [100%] 32561/32561 [ 00:00<00:00 86368.70it/s ]\n",
      "\n",
      " ┌──────────┬────────────┬───────────┬─────────┬────────┬───────────┬────────┬───────────┬────────────┐\n",
      " │    Label │ Hypothesis │ Reference │ correct │ Erreur │ Precision │ Recall │ F-measure │ Error rate │\n",
      " ├──────────┼────────────┼───────────┼─────────┼────────┼───────────┼────────┼───────────┼────────────┤\n",
      " │ infeq50K │      27050 │     24720 │   23626 │   3424 │     87.34 │  95.57 │     91.27 │      13.85 │\n",
      " ├──────────┼────────────┼───────────┼─────────┼────────┼───────────┼────────┼───────────┼────────────┤\n",
      " │   sup50K │       5511 │      7841 │    4417 │   3424 │     80.15 │  56.33 │     66.16 │      43.67 │\n",
      " ├──────────┼────────────┼───────────┼─────────┼────────┼───────────┼────────┼───────────┼────────────┤\n",
      " │      All │      32561 │     32561 │   28043 │   4518 │     86.12 │  86.12 │     86.12 │      13.88 │\n",
      " └──────────┴────────────┴───────────┴─────────┴────────┴───────────┴────────┴───────────┴────────────┘\n",
      " | Micro F1             = 86.12% [85.75,86.50] at 95%\n",
      " | Macro F1             = 78.72%\n",
      " | Exact Match          = 86.12%\n",
      " | Multi-Label Accuracy = 86.12%\n",
      " | Hamming Loss         = 6.94%\n",
      " adult.names indicate:\n",
      "    -    14 attributes\n",
      "    -     2 target labels\n",
      " Load file : [adult.tree.xml] --> done\n",
      " Load data : [100%] 16281/16281 [ 00:00<00:00 80201.97it/s ]\n",
      "\n",
      " ┌──────────┬────────────┬───────────┬─────────┬────────┬───────────┬────────┬───────────┬────────────┐\n",
      " │    Label │ Hypothesis │ Reference │ correct │ Erreur │ Precision │ Recall │ F-measure │ Error rate │\n",
      " ├──────────┼────────────┼───────────┼─────────┼────────┼───────────┼────────┼───────────┼────────────┤\n",
      " │ infeq50K │      13580 │     12435 │   11887 │   1693 │     87.53 │  95.59 │     91.39 │      13.61 │\n",
      " ├──────────┼────────────┼───────────┼─────────┼────────┼───────────┼────────┼───────────┼────────────┤\n",
      " │   sup50K │       2701 │      3846 │    2153 │   1693 │     79.71 │  55.98 │     65.77 │      44.02 │\n",
      " ├──────────┼────────────┼───────────┼─────────┼────────┼───────────┼────────┼───────────┼────────────┤\n",
      " │      All │      16281 │     16281 │   14040 │   2241 │     86.24 │  86.24 │     86.24 │      13.76 │\n",
      " └──────────┴────────────┴───────────┴─────────┴────────┴───────────┴────────┴───────────┴────────────┘\n",
      " | Micro F1             = 86.24% [85.71,86.76] at 95%\n",
      " | Macro F1             = 78.58%\n",
      " | Exact Match          = 86.24%\n",
      " | Multi-Label Accuracy = 86.24%\n",
      " | Hamming Loss         = 6.88%"
     ]
    }
   ],
   "source": [
    "#on l'entraine\n",
    "clf.fit(mdlpc=True)\n",
    "#on l'évalue sur l'apprentissage\n",
    "clf.predict('adult.data')\n",
    "#puis le test\n",
    "clf.predict('adult.test')\n",
    "#on ne le visualize pas nécessairement car il est un peu trop gros\n",
    "#clf.visualize_tree()"
   ]
  },
  {
   "cell_type": "markdown",
   "id": "15c957c5",
   "metadata": {},
   "source": [
    "> **Q1**:\tQu'observez-vous au niveau des performances par rapport au classifieur précédent ? "
   ]
  },
  {
   "cell_type": "markdown",
   "id": "4d33c544",
   "metadata": {},
   "source": [
    "81.94 < 86.12 presque 5% en plus, assez significatif"
   ]
  },
  {
   "cell_type": "markdown",
   "id": "55839158",
   "metadata": {},
   "source": [
    "> **Q2**:.\tQu'observez-vous au niveau des performances sur les données d’apprentissage par rapport aux performances sur les données de test ?"
   ]
  },
  {
   "cell_type": "markdown",
   "id": "ecafe98e",
   "metadata": {},
   "source": [
    "Pas de différence"
   ]
  },
  {
   "cell_type": "markdown",
   "id": "c2afc65e",
   "metadata": {},
   "source": [
    "### Maintenant, nous allons développer l’arbre jusqu’au bout (aucun critère de stop) "
   ]
  },
  {
   "cell_type": "code",
   "execution_count": 58,
   "id": "6da72794",
   "metadata": {},
   "outputs": [
    {
     "name": "stdout",
     "output_type": "stream",
     "text": [
      "\n",
      " adult.names indicate:\n",
      "    -    14 attributes\n",
      "    -     2 target labels\n",
      " Load data : [100%] 32561/32561 [ 00:00<00:00 84794.27it/s ]\n",
      "\n",
      " Build Tree: [100%] |██████████████████████████████| 32561/32561 [ 01:18<00:00 413.45it/s ]]\n",
      "\n",
      " adult.names indicate:\n",
      "    -    14 attributes\n",
      "    -     2 target labels\n",
      " Load file : [adult.tree.xml] --> done\n",
      " Load data : [100%] 32561/32561 [ 00:00<00:00 85238.22it/s ]\n",
      "\n",
      " ┌──────────┬────────────┬───────────┬─────────┬────────┬───────────┬────────┬───────────┬────────────┐\n",
      " │    Label │ Hypothesis │ Reference │ correct │ Erreur │ Precision │ Recall │ F-measure │ Error rate │\n",
      " ├──────────┼────────────┼───────────┼─────────┼────────┼───────────┼────────┼───────────┼────────────┤\n",
      " │ infeq50K │      24721 │     24720 │   24720 │      1 │    100.00 │ 100.00 │    100.00 │       0.00 │\n",
      " ├──────────┼────────────┼───────────┼─────────┼────────┼───────────┼────────┼───────────┼────────────┤\n",
      " │   sup50K │       7840 │      7841 │    7840 │      1 │    100.00 │  99.99 │     99.99 │       0.01 │\n",
      " ├──────────┼────────────┼───────────┼─────────┼────────┼───────────┼────────┼───────────┼────────────┤\n",
      " │      All │      32561 │     32561 │   32560 │      1 │    100.00 │ 100.00 │    100.00 │       0.00 │\n",
      " └──────────┴────────────┴───────────┴─────────┴────────┴───────────┴────────┴───────────┴────────────┘\n",
      " | Micro F1             = 100.00% [99.99,100.00] at 95%\n",
      " | Macro F1             = 100.00%\n",
      " | Exact Match          = 100.00%\n",
      " | Multi-Label Accuracy = 100.00%\n",
      " | Hamming Loss         = 0.00%\n",
      " adult.names indicate:\n",
      "    -    14 attributes\n",
      "    -     2 target labels\n",
      " Load file : [adult.tree.xml] --> done\n",
      " Load data : [100%] 16281/16281 [ 00:00<00:00 84796.88it/s ]\n",
      "\n",
      " ┌──────────┬────────────┬───────────┬─────────┬────────┬───────────┬────────┬───────────┬────────────┐\n",
      " │    Label │ Hypothesis │ Reference │ correct │ Erreur │ Precision │ Recall │ F-measure │ Error rate │\n",
      " ├──────────┼────────────┼───────────┼─────────┼────────┼───────────┼────────┼───────────┼────────────┤\n",
      " │ infeq50K │      12344 │     12435 │   10866 │   1569 │     88.03 │  87.38 │     87.70 │      12.62 │\n",
      " ├──────────┼────────────┼───────────┼─────────┼────────┼───────────┼────────┼───────────┼────────────┤\n",
      " │   sup50K │       3937 │      3846 │    2368 │   1569 │     60.15 │  61.57 │     60.85 │      40.80 │\n",
      " ├──────────┼────────────┼───────────┼─────────┼────────┼───────────┼────────┼───────────┼────────────┤\n",
      " │      All │      16281 │     16281 │   13234 │   3047 │     81.28 │  81.28 │     81.28 │      18.72 │\n",
      " └──────────┴────────────┴───────────┴─────────┴────────┴───────────┴────────┴───────────┴────────────┘\n",
      " | Micro F1             = 81.28% [80.69,81.88] at 95%\n",
      " | Macro F1             = 74.28%\n",
      " | Exact Match          = 81.28%\n",
      " | Multi-Label Accuracy = 81.28%\n",
      " | Hamming Loss         = 9.36%"
     ]
    }
   ],
   "source": [
    "clf.fit(depth=10000)\n",
    "clf.predict('adult.data')\n",
    "clf.predict('adult.test')"
   ]
  },
  {
   "cell_type": "markdown",
   "id": "4f375b44",
   "metadata": {},
   "source": [
    "> **Q3**: Même questions que précédemment, à quel phénomène avons nous affaire ?"
   ]
  },
  {
   "cell_type": "markdown",
   "id": "a791b15b",
   "metadata": {},
   "source": [
    "## Exercice 4 : nous allons maintenant utiliser un algorithme de méta-apprentissage sur des arbres de décision. Le boosting sur un millier d’arbres simples à 2 feuilles\n"
   ]
  },
  {
   "cell_type": "code",
   "execution_count": 64,
   "id": "ab6976b5",
   "metadata": {},
   "outputs": [
    {
     "name": "stdout",
     "output_type": "stream",
     "text": [
      "\n",
      " adult.names indicate:\n",
      "    -    14 attributes\n",
      "    -     2 target labels\n",
      " Load data : [100%] 32561/32561 [ 00:00<00:00 84354.92it/s ]\n",
      "\n",
      " Extract features -> 22144 -> cut -> 22144 features extracted in 575ms on 14 attributes\n",
      " Run AdaBoost.MH: [100%] |██████████████████████████████| 1000/1000 [ 04:01<00:00 4.15it/s ]\n",
      "\n",
      " adult.names indicate:\n",
      "    -    14 attributes\n",
      "    -     2 target labels\n",
      " Load file : [adult.boost.xml] --> done\n",
      " Load data : [100%] 32561/32561 [ 00:00<00:00 87529.57it/s ]\n",
      "\n",
      " Load round: [100%] 1000/1000 [ 00:00<00:00 90909.09it/s ]\n",
      "\n",
      " Predict   : [100%] |█████████████████████████| 32561/32561 [ 00:06<00:00 4827.43it/s ]\n",
      "\n",
      " ┌──────────┬────────────┬───────────┬─────────┬────────┬───────────┬────────┬───────────┬────────────┐\n",
      " │    Label │ Hypothesis │ Reference │ correct │ Erreur │ Precision │ Recall │ F-measure │ Error rate │\n",
      " ├──────────┼────────────┼───────────┼─────────┼────────┼───────────┼────────┼───────────┼────────────┤\n",
      " │ infeq50K │      26055 │     24720 │   23324 │   2731 │     89.52 │  94.35 │     91.87 │      11.05 │\n",
      " ├──────────┼────────────┼───────────┼─────────┼────────┼───────────┼────────┼───────────┼────────────┤\n",
      " │   sup50K │       6506 │      7841 │    5110 │   2731 │     78.54 │  65.17 │     71.23 │      34.83 │\n",
      " ├──────────┼────────────┼───────────┼─────────┼────────┼───────────┼────────┼───────────┼────────────┤\n",
      " │      All │      32561 │     32561 │   28434 │   4127 │     87.33 │  87.33 │     87.33 │      12.67 │\n",
      " └──────────┴────────────┴───────────┴─────────┴────────┴───────────┴────────┴───────────┴────────────┘\n",
      " | Micro F1             = 87.33% [86.96,87.69] at 95%\n",
      " | Macro F1             = 81.55%\n",
      " | Exact Match          = 87.33%\n",
      " | Multi-Label Accuracy = 87.33%\n",
      " | Hamming Loss         = 6.34%\n",
      " adult.names indicate:\n",
      "    -    14 attributes\n",
      "    -     2 target labels\n",
      " Load file : [adult.boost.xml] --> done\n",
      " Load data : [100%] 16281/16281 [ 00:00<00:00 82227.27it/s ]\n",
      "\n",
      " Load round: [100%] 1000/1000 [ 00:00<00:00 100000.00it/s ]\n",
      "\n",
      " Predict   : [100%] |█████████████████████████| 16281/16281 [ 00:03<00:00 4788.53it/s ]Predict   : [ 55%] |█████████████▒░░░░░░░░░░░|  9019/16281 [ 00:01<00:01 4741.85it/s ]\n",
      "\n",
      " ┌──────────┬────────────┬───────────┬─────────┬────────┬───────────┬────────┬───────────┬────────────┐\n",
      " │    Label │ Hypothesis │ Reference │ correct │ Erreur │ Precision │ Recall │ F-measure │ Error rate │\n",
      " ├──────────┼────────────┼───────────┼─────────┼────────┼───────────┼────────┼───────────┼────────────┤\n",
      " │ infeq50K │      13041 │     12435 │   11690 │   1351 │     89.64 │  94.01 │     91.77 │      10.86 │\n",
      " ├──────────┼────────────┼───────────┼─────────┼────────┼───────────┼────────┼───────────┼────────────┤\n",
      " │   sup50K │       3240 │      3846 │    2495 │   1351 │     77.01 │  64.87 │     70.42 │      35.13 │\n",
      " ├──────────┼────────────┼───────────┼─────────┼────────┼───────────┼────────┼───────────┼────────────┤\n",
      " │      All │      16281 │     16281 │   14185 │   2096 │     87.13 │  87.13 │     87.13 │      12.87 │\n",
      " └──────────┴────────────┴───────────┴─────────┴────────┴───────────┴────────┴───────────┴────────────┘\n",
      " | Micro F1             = 87.13% [86.61,87.64] at 95%\n",
      " | Macro F1             = 81.10%\n",
      " | Exact Match          = 87.13%\n",
      " | Multi-Label Accuracy = 87.13%\n",
      " | Hamming Loss         = 6.44%"
     ]
    }
   ],
   "source": [
    "clf.fit(iter=1000)\n",
    "clf.predict('adult.data',boosting=True)\n",
    "clf.predict('adult.test',boosting=True)"
   ]
  },
  {
   "cell_type": "code",
   "execution_count": 68,
   "id": "624d1768",
   "metadata": {},
   "outputs": [
    {
     "name": "stdout",
     "output_type": "stream",
     "text": [
      "\n",
      " adult.names indicate:\n",
      "    -    14 attributes\n",
      "    -     2 target labels\n",
      " Load file : [adult.boost.xml] --> done\n",
      " Load data : [100%] 32561/32561 [ 00:00<00:00 85015.67it/s ]\n",
      "\n",
      " Load round: [100%] 1000/1000 [ 00:00<00:00 100000.00it/s ]\n",
      "\n",
      " \n",
      " Draw curve: [100%] |█████████████████████████| 1000/1000 [ 00:35<00:00 28.02it/s ]\n",
      "\n",
      " \n",
      " adult.boost.plot.head generated (contains gnuplot instruction)\n",
      " adult.boost.plot      generated (contains coordinates)\n",
      " ┌─────────────────────────────────────────────────────────────────┐\n",
      " │ Run \"gnuplot adult.boost.plot.head\" to generate adult.boost.png │\n",
      " ├─────────────────────────────────────────────────────────────────┤\n",
      " \n",
      " ┌──────────┬────────────┬───────────┬─────────┬────────┬───────────┬────────┬───────────┬────────────┐\n",
      " │    Label │ Hypothesis │ Reference │ correct │ Erreur │ Precision │ Recall │ F-measure │ Error rate │\n",
      " ├──────────┼────────────┼───────────┼─────────┼────────┼───────────┼────────┼───────────┼────────────┤\n",
      " │ infeq50K │      26055 │     24720 │   23324 │   2731 │     89.52 │  94.35 │     91.87 │      11.05 │\n",
      " ├──────────┼────────────┼───────────┼─────────┼────────┼───────────┼────────┼───────────┼────────────┤\n",
      " │   sup50K │       6506 │      7841 │    5110 │   2731 │     78.54 │  65.17 │     71.23 │      34.83 │\n",
      " ├──────────┼────────────┼───────────┼─────────┼────────┼───────────┼────────┼───────────┼────────────┤\n",
      " │      All │      32561 │     32561 │   28434 │   4127 │     87.33 │  87.33 │     87.33 │      12.67 │\n",
      " └──────────┴────────────┴───────────┴─────────┴────────┴───────────┴────────┴───────────┴────────────┘\n",
      " | Micro F1             = 87.33% [86.96,87.69] at 95%\n",
      " | Macro F1             = 81.55%\n",
      " | Exact Match          = 87.33%\n",
      " | Multi-Label Accuracy = 87.33%\n",
      " | Hamming Loss         = 6.34%"
     ]
    },
    {
     "data": {
      "image/png": "[encoded data removed]",
      "text/plain": [
       "<IPython.core.display.Image object>"
      ]
     },
     "metadata": {},
     "output_type": "display_data"
    }
   ],
   "source": [
    "clf.get_learning_curves('adult.data')"
   ]
  },
  {
   "cell_type": "code",
   "execution_count": 67,
   "id": "d91e5f47",
   "metadata": {},
   "outputs": [
    {
     "name": "stdout",
     "output_type": "stream",
     "text": [
      "\n",
      " adult.names indicate:\n",
      "    -    14 attributes\n",
      "    -     2 target labels\n",
      " Load file : [adult.boost.xml] --> done\n",
      " Load data : [100%] 16281/16281 [ 00:00<00:00 82644.67it/s ]\n",
      "\n",
      " Load round: [100%] 1000/1000 [ 00:00<00:00 100000.00it/s ]\n",
      "\n",
      " \n",
      " Draw curve: [100%] |█████████████████████████| 1000/1000 [ 00:17<00:00 56.36it/s ]\n",
      "\n",
      " \n",
      " adult.boost.plot.head generated (contains gnuplot instruction)\n",
      " adult.boost.plot      generated (contains coordinates)\n",
      " ┌─────────────────────────────────────────────────────────────────┐\n",
      " │ Run \"gnuplot adult.boost.plot.head\" to generate adult.boost.png │\n",
      " ├─────────────────────────────────────────────────────────────────┤\n",
      " \n",
      " ┌──────────┬────────────┬───────────┬─────────┬────────┬───────────┬────────┬───────────┬────────────┐\n",
      " │    Label │ Hypothesis │ Reference │ correct │ Erreur │ Precision │ Recall │ F-measure │ Error rate │\n",
      " ├──────────┼────────────┼───────────┼─────────┼────────┼───────────┼────────┼───────────┼────────────┤\n",
      " │ infeq50K │      13041 │     12435 │   11690 │   1351 │     89.64 │  94.01 │     91.77 │      10.86 │\n",
      " ├──────────┼────────────┼───────────┼─────────┼────────┼───────────┼────────┼───────────┼────────────┤\n",
      " │   sup50K │       3240 │      3846 │    2495 │   1351 │     77.01 │  64.87 │     70.42 │      35.13 │\n",
      " ├──────────┼────────────┼───────────┼─────────┼────────┼───────────┼────────┼───────────┼────────────┤\n",
      " │      All │      16281 │     16281 │   14185 │   2096 │     87.13 │  87.13 │     87.13 │      12.87 │\n",
      " └──────────┴────────────┴───────────┴─────────┴────────┴───────────┴────────┴───────────┴────────────┘\n",
      " | Micro F1             = 87.13% [86.61,87.64] at 95%\n",
      " | Macro F1             = 81.10%\n",
      " | Exact Match          = 87.13%\n",
      " | Multi-Label Accuracy = 87.13%\n",
      " | Hamming Loss         = 6.44%"
     ]
    },
    {
     "data": {
      "image/png": "[encoded data removed]",
      "text/plain": [
       "<IPython.core.display.Image object>"
      ]
     },
     "metadata": {},
     "output_type": "display_data"
    }
   ],
   "source": [
    "clf.get_learning_curves('adult.test')"
   ]
  },
  {
   "cell_type": "markdown",
   "id": "6664a39d",
   "metadata": {},
   "source": [
    "### Générer un tableau récapitulatif du modèle de boosting produit\n",
    "Ce tableau récapitule toutes les conditions examinées par les mini arbres de décision, et donne pour chacune le vote octroyé à chacune des classes. "
   ]
  },
  {
   "cell_type": "code",
   "execution_count": 69,
   "id": "bb2325d6",
   "metadata": {},
   "outputs": [
    {
     "name": "stderr",
     "output_type": "stream",
     "text": [
      "adult.names indicate:\n",
      "   -    14 attributes\n",
      "   -     2 target labels\n",
      "Load file : [adult.boost.xml] --> done\n",
      "\r",
      "Load round:         1 [ 00:00<??:??  ?it/s ] \r",
      "Load round: [100%] 1000/1000 [ 00:00<00:00 100000.00it/s ] \n"
     ]
    },
    {
     "data": {
      "text/html": [
       "<html><head><title>Log</title>\n",
       "<script type = \"text/javascript\" src = \"http://www.irisa.fr/texmex/people/raymond/Utilities/Html-table/table-tri-sort.js\"></script>\n",
       "<link rel = \"stylesheet\" type = \"text/css\" href = \"http://www.irisa.fr/texmex/people/raymond/Utilities/Html-table/table.css\" media = \"all\">\n",
       "<script language = \"JavaScript\" type = \"text/javascript\">\n",
       "function affiche(prem,deuz)\n",
       "{\n",
       "\t\t\tdocument.getElementById('un').innerHTML=prem;\n",
       "\t\t\tdocument.getElementById('deux').innerHTML=deuz;\n",
       "\t\t\t}</script>\n",
       "\n",
       "<script language = \"JavaScript\" type = \"text/javascript\">\n",
       "function color(ligne,couleur)\n",
       "{\n",
       "\t\t   document.getElementById(ligne).style='background-color:'+couleur;\n",
       "\t\t   \t\t   }</script>\n",
       "</head>\n",
       "<body>\n",
       "<h1 style='text-align: center;'>Analyse of adult.boost</h1>\n",
       "<table id='feature' class=\"example table-autosort:0 table-stripeclass:alternate\">\n",
       "<thead><tr>\n",
       "\t\t   <th class=\"table-sortable:alphanumeric\">Feature</th>\n",
       "\t\t   <th class=\"table-sortable:alphanumeric\">type</th>\n",
       "\t\t   <th class=\"table-sortable:numeric\">position</th>\n",
       "\t\t   <th class=\"table-sortable:numeric\">selected</th>\n",
       "\t\t   <th class=\"table-sortable:alphanumeric\">selected in %</th>\n",
       "\t\t   </tr></thead><tbody>\n",
       "<tr id='lignefnlwgt' onMouseOut=\"color('lignefnlwgt','white')\" onMouseOver=\"color('lignefnlwgt','Aqua')\"><td style='text-align:left;' onMouseOver=\"affiche('','')\">fnlwgt</td><td>numeric</td><td>fnlwgt</td><td>4</td><td> 4.0%</td></tr>\n",
       "<tr id='lignerace' onMouseOut=\"color('lignerace','white')\" onMouseOver=\"color('lignerace','Aqua')\"><td style='text-align:left;' onMouseOver=\"affiche('','')\">race</td><td>discret</td><td>race</td><td>1</td><td> 1.0%</td></tr>\n",
       "<tr id='ligneage' onMouseOut=\"color('ligneage','white')\" onMouseOver=\"color('ligneage','Aqua')\"><td style='text-align:left;' onMouseOver=\"affiche('','')\">age</td><td>numeric</td><td>age</td><td>13</td><td>13.0%</td></tr>\n",
       "<tr id='lignecapital-gain' onMouseOut=\"color('lignecapital-gain','white')\" onMouseOver=\"color('lignecapital-gain','Aqua')\"><td style='text-align:left;' onMouseOver=\"affiche('','')\">capital-gain</td><td>numeric</td><td>capital-gain</td><td>17</td><td>17.0%</td></tr>\n",
       "<tr id='lignehours-per-week' onMouseOut=\"color('lignehours-per-week','white')\" onMouseOver=\"color('lignehours-per-week','Aqua')\"><td style='text-align:left;' onMouseOver=\"affiche('','')\">hours-per-week</td><td>numeric</td><td>hours-per-week</td><td>3</td><td> 3.0%</td></tr>\n",
       "<tr id='ligneeducation-num' onMouseOut=\"color('ligneeducation-num','white')\" onMouseOver=\"color('ligneeducation-num','Aqua')\"><td style='text-align:left;' onMouseOver=\"affiche('','')\">education-num</td><td>numeric</td><td>education-num</td><td>6</td><td> 6.0%</td></tr>\n",
       "<tr id='lignecapital-loss' onMouseOut=\"color('lignecapital-loss','white')\" onMouseOver=\"color('lignecapital-loss','Aqua')\"><td style='text-align:left;' onMouseOver=\"affiche('','')\">capital-loss</td><td>numeric</td><td>capital-loss</td><td>20</td><td>20.0%</td></tr>\n",
       "<tr id='ligneoccupation' onMouseOut=\"color('ligneoccupation','white')\" onMouseOver=\"color('ligneoccupation','Aqua')\"><td style='text-align:left;' onMouseOver=\"affiche('','')\">occupation</td><td>discret</td><td>occupation</td><td>11</td><td>11.0%</td></tr>\n",
       "<tr id='lignenative-country' onMouseOut=\"color('lignenative-country','white')\" onMouseOver=\"color('lignenative-country','Aqua')\"><td style='text-align:left;' onMouseOver=\"affiche('','')\">native-country</td><td>discret</td><td>native-country</td><td>5</td><td> 5.0%</td></tr>\n",
       "<tr id='ligneworkclass' onMouseOut=\"color('ligneworkclass','white')\" onMouseOver=\"color('ligneworkclass','Aqua')\"><td style='text-align:left;' onMouseOver=\"affiche('','')\">workclass</td><td>discret</td><td>workclass</td><td>3</td><td> 3.0%</td></tr>\n",
       "<tr id='lignemarital-status' onMouseOut=\"color('lignemarital-status','white')\" onMouseOver=\"color('lignemarital-status','Aqua')\"><td style='text-align:left;' onMouseOver=\"affiche('','')\">marital-status</td><td>discret</td><td>marital-status</td><td>4</td><td> 4.0%</td></tr>\n",
       "<tr id='ligneeducation' onMouseOut=\"color('ligneeducation','white')\" onMouseOver=\"color('ligneeducation','Aqua')\"><td style='text-align:left;' onMouseOver=\"affiche('','')\">education</td><td>discret</td><td>education</td><td>3</td><td> 3.0%</td></tr>\n",
       "<tr id='lignerelationship' onMouseOut=\"color('lignerelationship','white')\" onMouseOver=\"color('lignerelationship','Aqua')\"><td style='text-align:left;' onMouseOver=\"affiche('','')\">relationship</td><td>discret</td><td>relationship</td><td>7</td><td> 7.0%</td></tr>\n",
       "<tr id='lignesex' onMouseOut=\"color('lignesex','white')\" onMouseOver=\"color('lignesex','Aqua')\"><td style='text-align:left;' onMouseOver=\"affiche('','')\">sex</td><td>discret</td><td>sex</td><td>3</td><td> 3.0%</td></tr>\n",
       "</tbody></table>\n",
       "<div id=un name=un contenteditable=true style='position:fixed;  top:5px; left:5px'></div>\n",
       "<div id=deux contenteditable=true name=deux style='position:fixed;  top:5px; right:5px'></div>\n",
       "<div style='margin: 0 auto; text-align:center;'>Average number of nodes:3(complete prof 1 tree)<br>Max depth:1</div>\n",
       "<table id = 'rules' class=\"example table-autosort table-stripeclass:alternate table-autofilter table-filterable\">\n",
       "<thead><tr><tr>\t\t   \t<th class = \"table-sortable:numeric\">iter </th> \t\t\t<th class = \"table-sortable:alphanumeric\">Rule </th> \t\t\t<th class = \"table-sortable:alphanumeric\">label</th>\t\t\t<th class = \"table-sortable:alphanumeric\">vote</th>\t\t\t</tr><tr>\t\t   \t\t<th></th> \t\t\t\t<th><input name = \"filter\"  onkeyup = \"Table.filter(this,this)\"> </th> \t\t\t\t<th class = \"table-filterable\"></th>\t\t\t\t<th><select onchange = \"Table.filter(this,this)\"><option value=\"function(){return true;}\">All</option><option value =\"function(val){return parseFloat(val)>=0;}\">positive</option><option value = \"function(val){return parseFloat(val)<0;}\">negative</option></select></th></tr></thead><tbody>\n",
       "<tr><td>0</td><td style='text-align:left;'>[marital-status:NON(Married-civ-spouse)]</td><td>infeq50K</td><td>  1.330</td></tr>\n",
       "<tr><td>0</td><td style='text-align:left;'>[marital-status:NON(Married-civ-spouse)]</td><td>sup50K</td><td> -1.330</td></tr>\n",
       "<tr><td>1</td><td style='text-align:left;'>[capital-gain:&gt=7073.5]</td><td>infeq50K</td><td> -2.647</td></tr>\n",
       "<tr><td>1</td><td style='text-align:left;'>[capital-gain:&gt=7073.5]</td><td>sup50K</td><td>  2.647</td></tr>\n",
       "<tr><td>3</td><td style='text-align:left;'>[age:&lt27.5]</td><td>infeq50K</td><td>  0.835</td></tr>\n",
       "<tr><td>3</td><td style='text-align:left;'>[age:&lt27.5]</td><td>sup50K</td><td> -0.835</td></tr>\n",
       "<tr><td>4</td><td style='text-align:left;'>[capital-loss:&gt=1820.5]</td><td>infeq50K</td><td> -0.989</td></tr>\n",
       "<tr><td>4</td><td style='text-align:left;'>[capital-loss:&gt=1820.5]</td><td>sup50K</td><td>  0.989</td></tr>\n",
       "<tr><td>15</td><td style='text-align:left;'>[age:&lt21.5]</td><td>infeq50K</td><td>  0.936</td></tr>\n",
       "<tr><td>15</td><td style='text-align:left;'>[age:&lt21.5]</td><td>sup50K</td><td> -0.936</td></tr>\n",
       "<tr><td>18</td><td style='text-align:left;'>[marital-status:Married-AF-spouse]</td><td>infeq50K</td><td> -1.606</td></tr>\n",
       "<tr><td>18</td><td style='text-align:left;'>[marital-status:Married-AF-spouse]</td><td>sup50K</td><td>  1.606</td></tr>\n",
       "<tr><td>26</td><td style='text-align:left;'>[capital-loss:&gt=2384.5]</td><td>infeq50K</td><td> -1.090</td></tr>\n",
       "<tr><td>26</td><td style='text-align:left;'>[capital-loss:&gt=2384.5]</td><td>sup50K</td><td>  1.090</td></tr>\n",
       "<tr><td>30</td><td style='text-align:left;'>[age:&gt=84.5]</td><td>infeq50K</td><td>  1.116</td></tr>\n",
       "<tr><td>30</td><td style='text-align:left;'>[age:&gt=84.5]</td><td>sup50K</td><td> -1.116</td></tr>\n",
       "<tr><td>36</td><td style='text-align:left;'>[occupation:Priv-house-serv]</td><td>infeq50K</td><td>  1.712</td></tr>\n",
       "<tr><td>36</td><td style='text-align:left;'>[occupation:Priv-house-serv]</td><td>sup50K</td><td> -1.712</td></tr>\n",
       "<tr><td>45</td><td style='text-align:left;'>[capital-gain:&gt=70654.5]</td><td>infeq50K</td><td> -1.684</td></tr>\n",
       "<tr><td>45</td><td style='text-align:left;'>[capital-gain:&gt=70654.5]</td><td>sup50K</td><td>  1.684</td></tr>\n",
       "<tr><td>56</td><td style='text-align:left;'>[age:&lt18.5]</td><td>infeq50K</td><td>  1.530</td></tr>\n",
       "<tr><td>56</td><td style='text-align:left;'>[age:&lt18.5]</td><td>sup50K</td><td> -1.530</td></tr>\n",
       "<tr><td>59</td><td style='text-align:left;'>[native-country:Columbia]</td><td>infeq50K</td><td>  1.118</td></tr>\n",
       "<tr><td>59</td><td style='text-align:left;'>[native-country:Columbia]</td><td>sup50K</td><td> -1.118</td></tr>\n",
       "<tr><td>66</td><td style='text-align:left;'>[capital-gain:&gt=30961.5]</td><td>infeq50K</td><td>  1.251</td></tr>\n",
       "<tr><td>66</td><td style='text-align:left;'>[capital-gain:&gt=30961.5]</td><td>sup50K</td><td> -1.251</td></tr>\n",
       "<tr><td>67</td><td style='text-align:left;'>[education:Preschool]</td><td>infeq50K</td><td>  1.420</td></tr>\n",
       "<tr><td>67</td><td style='text-align:left;'>[education:Preschool]</td><td>sup50K</td><td> -1.420</td></tr>\n",
       "<tr><td>77</td><td style='text-align:left;'>[native-country:Dominican-Republic]</td><td>infeq50K</td><td>  1.031</td></tr>\n",
       "<tr><td>77</td><td style='text-align:left;'>[native-country:Dominican-Republic]</td><td>sup50K</td><td> -1.031</td></tr>\n",
       "<tr><td>78</td><td style='text-align:left;'>[capital-gain:&gt=70654.5]</td><td>infeq50K</td><td> -1.375</td></tr>\n",
       "<tr><td>78</td><td style='text-align:left;'>[capital-gain:&gt=70654.5]</td><td>sup50K</td><td>  1.375</td></tr>\n",
       "<tr><td>95</td><td style='text-align:left;'>[capital-loss:&gt=3726.5]</td><td>infeq50K</td><td>  1.186</td></tr>\n",
       "<tr><td>95</td><td style='text-align:left;'>[capital-loss:&gt=3726.5]</td><td>sup50K</td><td> -1.186</td></tr>\n",
       "</tbody></table></html>\n"
      ]
     },
     "metadata": {},
     "output_type": "display_data"
    }
   ],
   "source": [
    "clf.feedback(filter=0.7)"
   ]
  },
  {
   "cell_type": "markdown",
   "id": "91ab78b0",
   "metadata": {},
   "source": [
    "> **Q7**: En vous aidant de ce tableau, donnez les attributs les plus efficaces pour discriminer les individus gagnant plus de 50K de ceux qui en gagnent moins"
   ]
  },
  {
   "cell_type": "markdown",
   "id": "c7fe0491",
   "metadata": {},
   "source": [
    "## Exercice 5 :\n",
    "Prise en main de [scikit-learn](http://scikit-learn.org/stable/) et construction d'un SVM. Il est trop long d'apprendre et tuner un SVM sur les données précédentes : impossible à faire en TP. Les données utilisées ici seront une tâche de reconnaissance de digits (chiffres de 0 a 9) à partir d'imagettes.\n"
   ]
  },
  {
   "cell_type": "code",
   "execution_count": 70,
   "id": "b291cc08",
   "metadata": {},
   "outputs": [],
   "source": [
    "from sklearn import datasets\n",
    "from sklearn.model_selection import RandomizedSearchCV,GridSearchCV,train_test_split\n",
    "from sklearn.svm import SVC\n",
    "from sklearn.metrics import classification_report\n",
    "from sklearn.preprocessing import MinMaxScaler\n",
    "from sklearn.neighbors import KNeighborsClassifier\n",
    "import numpy as np"
   ]
  },
  {
   "cell_type": "markdown",
   "id": "a1d05e18",
   "metadata": {},
   "source": [
    "### Chargement des données et découpage:\n",
    "- 75% pour les données d'apprentissage\n",
    "- 25% pour les données de test"
   ]
  },
  {
   "cell_type": "code",
   "execution_count": null,
   "id": "0306f79c",
   "metadata": {},
   "outputs": [],
   "source": [
    "#on prend un corpus de reconnaissance de digits (chiffres de 0 a 9) sur imagettes\n",
    "digits = datasets.load_digits()\n",
    "X = digits.data #X = matrice des examples d'apprentissages (nbexamples*nbvariablespourdecrireunexemple)\n",
    "y = digits.target#Y = vecteur des nbexamples étiquettes (vérité terrain)\n",
    "\n",
    "#découpage de nos données en 2, un train pour apprendre un classifieur,et un test pour estimer l'erreur réelle du classifieur\n",
    "x_train, x_test, y_train, y_test = train_test_split(X, y, test_size=0.25,shuffle=False)"
   ]
  },
  {
   "cell_type": "markdown",
   "id": "41360b99",
   "metadata": {},
   "source": [
    "> **Question**\n",
    "> 1. entrainer un SVM *linéaire* sans aucun tuning et évaluez le\n",
    "> 2. entrainez un SVM à noyau *RBF* sans tuning et évaluez-le : comparez\n",
    "> 3. tuner les paramètres du noyau *RBF*, évaluez et comparez\n",
    "> 4. obervez les données: y-avait-t-il un prétraitement à faire avant la classification ? si oui faite-le"
   ]
  },
  {
   "cell_type": "code",
   "execution_count": null,
   "id": "8a34cd62",
   "metadata": {},
   "outputs": [],
   "source": []
  },
  {
   "cell_type": "markdown",
   "id": "51abba2a",
   "metadata": {},
   "source": [
    "### évaluation du classifieur"
   ]
  },
  {
   "cell_type": "code",
   "execution_count": null,
   "id": "7fa781c8",
   "metadata": {},
   "outputs": [],
   "source": [
    "#apply the classifier on the test data\n",
    "print(\"Apply\")\n",
    "predictions = clf.predict(x_test)\n",
    "#check the performances of the classifier\n",
    "print(classification_report(y_test, predictions,digits=4))"
   ]
  },
  {
   "cell_type": "markdown",
   "id": "143d84bf",
   "metadata": {},
   "source": [
    "> Qoptionnel: vous pouvez vérifier si le gain entre le système SVM et KNN sont statisquement significatif en utilisant les tests de student apparié et de wilcoxon"
   ]
  },
  {
   "cell_type": "code",
   "execution_count": null,
   "id": "f2c897c0",
   "metadata": {},
   "outputs": [],
   "source": [
    "from scipy.stats import ttest_rel,wilcoxon\n"
   ]
  },
  {
   "cell_type": "code",
   "execution_count": null,
   "id": "c650a2a4",
   "metadata": {},
   "outputs": [],
   "source": []
  }
 ],
 "metadata": {
  "kernelspec": {
   "display_name": "Python 3 (ipykernel)",
   "language": "python",
   "name": "python3"
  },
  "language_info": {
   "codemirror_mode": {
    "name": "ipython",
    "version": 3
   },
   "file_extension": ".py",
   "mimetype": "text/x-python",
   "name": "python",
   "nbconvert_exporter": "python",
   "pygments_lexer": "ipython3",
   "version": "3.8.10"
  }
 },
 "nbformat": 4,
 "nbformat_minor": 5
}
