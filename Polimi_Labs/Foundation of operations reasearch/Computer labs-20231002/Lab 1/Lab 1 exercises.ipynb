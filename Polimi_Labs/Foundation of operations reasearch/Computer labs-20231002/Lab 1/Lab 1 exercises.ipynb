{
 "cells": [
  {
   "cell_type": "markdown",
   "metadata": {},
   "source": [
    "## Diet problem\n",
    "\n",
    "A canteen has to plan the composition of the meals that it provides. A meal can be composed of the types of food indicated in the following table. Costs, in Euro per hg, and availabilities, in hg, are also indicated.\n",
    "\n",
    "Food|Cost|Availability\n",
    "----|----|------------\n",
    "Bread|0.1|4\n",
    "Milk|0.5|3\n",
    "Eggs|0.12|1\n",
    "Meat|0.9|2\n",
    "Cake|1.3|2\n",
    "\n",
    "A meal must contain at least the following amount of each nutrient\n",
    "\n",
    "Nutrient|Minimal quantity\n",
    "--------|----------------\n",
    "Calories|600 cal\n",
    "Proteins|50 g\n",
    "Calcium|0.7 g\n",
    "\n",
    "Each hg of each type of food contains to following amount of nutrients\n",
    "\n",
    "Food|Calories|Proteins|Calcium\n",
    "----|--------|--------|-------\n",
    "Bread|30 cal|5 g|0.02 g\n",
    "Milk|50 cal|15 g|0.15 g\n",
    "Eggs|150 cal|30 g|0.05 g\n",
    "Meat|180 cal|90 g|0.08 g\n",
    "Cake|400 cal|70 g|0.01 g\n",
    "\n",
    "Give a linear programming formulation for the problem of finding a diet (a meal) of minimum total cost which satisfies the minimum nutrient requirements."
   ]
  },
  {
   "cell_type": "markdown",
   "metadata": {},
   "source": [
    "Relevant sets : \n",
    "\n",
    "$I$ : Set of type of food\n",
    "\n",
    "$J$ : Set of type of nutriments\n",
    "\n",
    "**Decision variables:**\n",
    "\n",
    "$x_i$  = amount of food type $i \\in I$\n",
    "\n",
    "**Parameters:**\n",
    "\n",
    "From table 1: \n",
    "\n",
    "$c_i$ = cost of food type $i \\in I$\n",
    "\n",
    "$q_i$ = available quantity of food type $i \\in I$\n",
    "\n",
    "From table 2: \n",
    "\n",
    "$b_i$ = minimal nutriment required $i \\in I$\n",
    "\n",
    "From table 3: \n",
    "\n",
    "$a_{ij}$ = the amount of nutriment $j \\in J$ for the food type $i \\in I$\n",
    "\n",
    "**Constrains:**\n",
    "\n",
    "Minimal quantity of nutriments in the solution : $$ \\sum_{i \\in I} a_{ij} x_i \\geq b_j, \\forall j \\in J $$\n",
    "\n",
    "Availability of food type : : $$ x_i \\leq q_i, \\forall i \\in I $$\n",
    "\n",
    "Nature of decision variables: $$ x_i \\geq 0, \\forall i \\in I $$\n",
    "\n",
    "**Objective function :**\n",
    "\n",
    "$$ \\min \\sum_{i \\in I} c_i x_i = min(0.1x_1 + 0.5x_2 + 0.12x_3 + 0.9x_4 + 1.3x_5) $$"
   ]
  },
  {
   "cell_type": "code",
   "execution_count": null,
   "metadata": {},
   "outputs": [],
   "source": [
    "# When using Colab, make sure you run this instruction beforehand\n",
    "!pip install mip"
   ]
  },
  {
   "cell_type": "code",
   "execution_count": null,
   "metadata": {},
   "outputs": [],
   "source": [
    "# We need to import the package mip\n",
    "import mip"
   ]
  },
  {
   "cell_type": "code",
   "execution_count": null,
   "metadata": {
    "id": "emiHieGMkTVg"
   },
   "outputs": [],
   "source": [
    "# Food\n",
    "I = {'Bread', 'Milk', 'Eggs', 'Meat', 'Cake'}\n",
    "\n",
    "# Nutrients\n",
    "J = {'Calories', 'Proteins', 'Calcium'}\n",
    "\n",
    "# Cost in Euro per hg of food\n",
    "c = {'Bread':0.1, 'Milk':0.5, 'Eggs':0.12, 'Meat':0.9, 'Cake':0.3}\n",
    "\n",
    "# Availability per hg of food\n",
    "q = {'Bread':4, 'Milk':3, 'Eggs':1, 'Meat':2, 'Cake':2}\n",
    "\n",
    "# minum nutrients \n",
    "b = {'Calories':600, 'Proteins':50, 'Calcium':0.7}\n",
    "\n",
    "# Nutrients per hf of food\n",
    "a = {('Bread','Calories'):30,('Milk','Calories'):50,('Eggs','Calories'):150,('Meat','Calories'):180,('Cake','Calories'):400,\n",
    "('Bread','Proteins'):5,('Milk','Proteins'):15,('Eggs','Proteins'):30,('Meat','Proteins'):90,('Cake','Proteins'):70,\n",
    "('Bread','Calcium'):0.02,('Milk','Calcium'):0.15,('Eggs','Calcium'):0.05,('Meat','Calcium'):0.08,('Cake','Calcium'):0.01}"
   ]
  },
  {
   "cell_type": "markdown",
   "metadata": {},
   "source": [
    "Now we create an empty model and add the variables"
   ]
  },
  {
   "cell_type": "code",
   "execution_count": null,
   "metadata": {
    "id": "pSvGnxiao6Zl"
   },
   "outputs": [],
   "source": [
    "# Define a model\n",
    "model = mip.Model()\n",
    "\n",
    "# Define variables\n",
    "x = [model.add_var(name = i,lb=0) for i in I]"
   ]
  },
  {
   "cell_type": "markdown",
   "metadata": {},
   "source": [
    "Let's write the objective function: in the general case, it can be written as a sum over the set of models."
   ]
  },
  {
   "cell_type": "code",
   "execution_count": null,
   "metadata": {
    "id": "GM2sOSkJpVza"
   },
   "outputs": [],
   "source": [
    "# Define the objective function\n",
    "\n",
    "# model.objective = mip.minimize(0.1*x1 + 0.5x2 + ...)\n",
    "\n",
    "# xsum : input : list -> return : sum for the model to read it  \n",
    "model.objective = mip.minimize(mip.xsum([c[food]*x[i] for i, food in enumerate(I)]))"
   ]
  },
  {
   "cell_type": "markdown",
   "metadata": {},
   "source": [
    "The constraints can be generated in loops:"
   ]
  },
  {
   "cell_type": "code",
   "execution_count": null,
   "metadata": {
    "id": "JeNTerfsqFjS"
   },
   "outputs": [],
   "source": [
    "# CONSTRAINTS\n",
    "\n",
    "# Availability constraint\n",
    "for i,food in enumerate(I):\n",
    "  model.add_constr(x[i] <= q[food])\n",
    "\n",
    "# Minum nutrients\n",
    "for j in J:\n",
    "  model.add_constr(mip.xsum([a[food, j]*x[i] for i, food in enumerate(I)]) >= b[j])"
   ]
  },
  {
   "cell_type": "markdown",
   "metadata": {},
   "source": [
    "The model is complete. Let's solve it and print the optimal solution."
   ]
  },
  {
   "cell_type": "code",
   "execution_count": null,
   "metadata": {
    "colab": {
     "base_uri": "https://localhost:8080/"
    },
    "id": "u2EOpR5zrlfr",
    "outputId": "a574797d-abd7-41ec-8364-be34891a2113"
   },
   "outputs": [],
   "source": [
    "# Optimizing command\n",
    "model.optimize()"
   ]
  },
  {
   "cell_type": "code",
   "execution_count": null,
   "metadata": {
    "colab": {
     "base_uri": "https://localhost:8080/"
    },
    "id": "SptErh70xQFd",
    "outputId": "de2b7104-2570-412b-86db-7147bbadd13a"
   },
   "outputs": [],
   "source": [
    "# Optimal objective function value\n",
    "model.objective.x"
   ]
  },
  {
   "cell_type": "code",
   "execution_count": null,
   "metadata": {
    "colab": {
     "base_uri": "https://localhost:8080/"
    },
    "id": "1GmrXIDUxhtA",
    "outputId": "c40e738d-c7ea-4a3e-bcff-dfa9a047c77a"
   },
   "outputs": [],
   "source": [
    "# Printing the variables values\n",
    "for i in model.vars:\n",
    "  print(i.name)\n",
    "  print(i.x)"
   ]
  },
  {
   "cell_type": "markdown",
   "metadata": {},
   "source": [
    "## Oil blending problem\n",
    "\n",
    "A refinery has to blend 4 types of oil to obtain 3 types of gasoline. The following table reports the available quantity of oil of each type (in barrels) and the respective unit cost (Euro per barrel)\n",
    "\n",
    "Oil type|Cost|Availability\n",
    "--------|----|------------\n",
    "1|9|5000\n",
    "2|7|2400\n",
    "3|12|4000\n",
    "4|6|1500\n",
    "\n",
    "\n",
    "Blending constraints are to be taken into account, since each type of gasoline must contain at least a specific, predefined, quantity of each type of oil, as indicated in the next table. The unit revenue of each type of gasoline (Euro per barrel) is also indicated\n",
    "\n",
    "Gasoline type|Requirements|Revenue\n",
    "-------------|------------|-------\n",
    "A|$\\geq$ 20% of type 2| 12\n",
    "A|$\\leq$ 30% of type 3|12\n",
    "B|$\\geq$ 40% of type 3|18\n",
    "C|$\\leq$ 50% of type 2|10\n"
   ]
  },
  {
   "cell_type": "code",
   "execution_count": 1,
   "metadata": {},
   "outputs": [],
   "source": [
    "# We need to import the package mip\n",
    "import mip"
   ]
  },
  {
   "cell_type": "code",
   "execution_count": 27,
   "metadata": {},
   "outputs": [],
   "source": [
    "# Set of oil types\n",
    "I = {'1', '2', '3', '4'}\n",
    "\n",
    "# Set of gasoline types\n",
    "J = {'A', 'B', 'C'}\n",
    "\n",
    "# Unit cost for oil of type i \n",
    "c = {'1':9, '2':7, '3':12, '4':6}\n",
    "\n",
    "# Availability of oil type i\n",
    "b = {'1':5000, '2':2400, '3':4000, '4':1500}\n",
    "\n",
    "# Price of gasoline of type j\n",
    "r = {'A':12, 'B':18, 'C':10}\n",
    "\n",
    "# Maximum quantity (percentage) of oil\n",
    "q_max = {}\n",
    "for i in I:\n",
    "    for j in J:\n",
    "        q_max[(i, j)] = 1\n",
    "q_max[('2', 'A')] = 0.3\n",
    "q_max[('1', 'C')] = 0.5\n",
    "\n",
    "# Minimum quantity (percentage) of oil\n",
    "q_min = {}\n",
    "for i in I:\n",
    "    for j in J:\n",
    "        q_min[(i, j)] = 0\n",
    "q_min[('1', 'A')] = 0.2\n",
    "q_min[('2', 'B')] = 0.4"
   ]
  },
  {
   "cell_type": "markdown",
   "metadata": {},
   "source": [
    "Now we create an empty model and add the variables"
   ]
  },
  {
   "cell_type": "code",
   "execution_count": 28,
   "metadata": {},
   "outputs": [],
   "source": [
    "# Define a model\n",
    "model2 = mip.Model()\n",
    "\n",
    "# Define variables\n",
    "x = {(i, j):model2.add_var(name=i+','+j, lb=0) for i in I for j in J}  #x_ij the amount of oil i used to produced gasoline of type j \n",
    "y = {j: model2.add_var(name=j, lb=0) for j in J} #y_i tha amount of gasoline of type j produced"
   ]
  },
  {
   "cell_type": "code",
   "execution_count": 29,
   "metadata": {},
   "outputs": [],
   "source": [
    "# Define the objective function\n",
    "model2.objective = mip.maximize(\n",
    "    mip.xsum(r[j]*y[j] for j in J) \n",
    "    - mip.xsum(c[i]*x[i,j] for i in I for j in J)\n",
    ")"
   ]
  },
  {
   "cell_type": "code",
   "execution_count": 30,
   "metadata": {},
   "outputs": [],
   "source": [
    "# CONSTRAINTS\n",
    "# Availability constraint\n",
    "for i in I:\n",
    "  model2.add_constr(mip.xsum(x[i, j] for j in J) <= b[i])\n",
    "\n",
    "# Conservation constraint\n",
    "for j in J:\n",
    "    model2.add_constr(mip.xsum(x[i, j] for i in I) == y[j])\n",
    "# Maximum quantity\n",
    "for i in I:\n",
    "    for j in J:\n",
    "        model2.add_constr(x[i, j] <= q_max[i,j]*y[j])\n",
    "# Minimum quantity\n",
    "for i in I:\n",
    "    for j in J:\n",
    "        model2.add_constr(x[i, j] >= q_min[i,j]*y[j])"
   ]
  },
  {
   "cell_type": "markdown",
   "metadata": {},
   "source": [
    "The model is complete. Let's solve it and print the optimal solution."
   ]
  },
  {
   "cell_type": "code",
   "execution_count": 31,
   "metadata": {},
   "outputs": [
    {
     "data": {
      "text/plain": [
       "<OptimizationStatus.OPTIMAL: 0>"
      ]
     },
     "execution_count": 31,
     "metadata": {},
     "output_type": "execute_result"
    }
   ],
   "source": [
    "# Optimizing command\n",
    "model2.optimize()"
   ]
  },
  {
   "cell_type": "code",
   "execution_count": 32,
   "metadata": {},
   "outputs": [
    {
     "data": {
      "text/plain": [
       "72000.00000000001"
      ]
     },
     "execution_count": 32,
     "metadata": {},
     "output_type": "execute_result"
    }
   ],
   "source": [
    "# Optimal objective function value\n",
    "model2.objective.x"
   ]
  },
  {
   "cell_type": "code",
   "execution_count": 34,
   "metadata": {},
   "outputs": [
    {
     "name": "stdout",
     "output_type": "stream",
     "text": [
      "3,A 1900.0\n",
      "3,C 0.0\n",
      "3,B 2100.0\n",
      "2,A 0.0\n",
      "2,C 0.0\n",
      "2,B 2400.0\n",
      "4,A 0.0\n",
      "4,C 0.0\n",
      "4,B 1500.0\n",
      "1,A 5000.0\n",
      "1,C 0.0\n",
      "1,B 0.0\n",
      "A 6900.000000000001\n",
      "C 0.0\n",
      "B 6000.0\n"
     ]
    }
   ],
   "source": [
    "# Printing the variables values\n",
    "for i in model2.vars:\n",
    "    print(i.name, i.x)"
   ]
  },
  {
   "cell_type": "code",
   "execution_count": null,
   "metadata": {},
   "outputs": [],
   "source": []
  }
 ],
 "metadata": {
  "colab": {
   "name": "Diet.ipynb",
   "provenance": []
  },
  "kernelspec": {
   "display_name": "Python 3 (ipykernel)",
   "language": "python",
   "name": "python3"
  },
  "language_info": {
   "codemirror_mode": {
    "name": "ipython",
    "version": 3
   },
   "file_extension": ".py",
   "mimetype": "text/x-python",
   "name": "python",
   "nbconvert_exporter": "python",
   "pygments_lexer": "ipython3",
   "version": "3.11.5"
  }
 },
 "nbformat": 4,
 "nbformat_minor": 1
}
